{
 "cells": [
  {
   "cell_type": "markdown",
   "metadata": {},
   "source": [
    "### <font color='black'><div style=\"text-align: center\">2018</div></font>\n",
    "---\n",
    "![image](materials/python_logo.PNG)\n",
    "# <div style=\"text-align:center;font-size:1.8em;color:green;font-family:verdana\">CURSO BÁSICO DE PYTHON</div>\n",
    "## <div style=\"text-align:center;font-size:1.2em;color:green;font-family:verdana\">DÍA 1</div>\n",
    "\n",
    "<div font color='gray'><div style=\"text-align: center\">AXTEL</div>\n"
   ]
  },
  {
   "cell_type": "markdown",
   "metadata": {},
   "source": [
    "\n",
    "# <div style=\"text-align:center;font-size:1.1em;color:GREEN;font-family:verdana\">1. CONCEPTOS BÁSICOS</div>\n"
   ]
  },
  {
   "cell_type": "markdown",
   "metadata": {},
   "source": [
    "## <div style=\"text-align:left;font-size:1.1em;color:#666666;font-family:verdana\">1.1 PRINT Y COMENTARIOS</div>\n"
   ]
  },
  {
   "cell_type": "markdown",
   "metadata": {},
   "source": [
    "# Print"
   ]
  },
  {
   "cell_type": "markdown",
   "metadata": {},
   "source": [
    "<div style=\"text-align:justify;font-size:1.1em;color:#2F2B29;font-family:verdana\"> Comencemos a usar el lenguaje imprimiendo información. Imprimiremos la frase \"Hola, Mundo\":</div>"
   ]
  },
  {
   "cell_type": "code",
   "execution_count": null,
   "metadata": {},
   "outputs": [],
   "source": [
    "print(\"Hola, Mundo\")"
   ]
  },
  {
   "cell_type": "markdown",
   "metadata": {},
   "source": [
    "<div style=\"text-align:justify;font-size:1.1em;color:#2F2B29;font-family:verdana\"> Para imprimir, utilizamos el comando \"print\", el cual despliega un texto en la terminal donde estemos corriendo el programa. Este es una función ya incluida en Python. Es posible imprimir frases o parrafos de cualquier longitud, incluyendo espacios y caracteres especiales.</div>"
   ]
  },
  {
   "cell_type": "markdown",
   "metadata": {},
   "source": [
    "<div style=\"text-align:justify;font-size:1.1em;color:#2F2B29;font-family:verdana\"> El texto a imprimir debe ir siempre dentro de comillas y rodeado por paréntesis (en el caso de Python 3). De lo contrario, obtendremos un error:</div>"
   ]
  },
  {
   "cell_type": "code",
   "execution_count": null,
   "metadata": {},
   "outputs": [],
   "source": [
    "print(Hola, Mundo)"
   ]
  },
  {
   "cell_type": "code",
   "execution_count": null,
   "metadata": {},
   "outputs": [],
   "source": [
    "print \"Hola, Mundo\""
   ]
  },
  {
   "cell_type": "markdown",
   "metadata": {},
   "source": [
    "<div style=\"text-align:justify;font-size:1.1em;color:#2F2B29;font-family:verdana\"> Las dos celdas anteriores producirán un error al ser ejecutadas, ya que no siguen el formato de impresión de Python. El comando \"print\" debe ir siempre en minúsculas.</div>"
   ]
  },
  {
   "cell_type": "markdown",
   "metadata": {},
   "source": [
    "![imagen](materials/pencil2.PNG)"
   ]
  },
  {
   "cell_type": "markdown",
   "metadata": {},
   "source": [
    "#### <div style=\"text-align:CENTER;font-size:1.3em;color:red;font-family:verdana\"> EJERCICIO 1.1-1 [1 minuto]</div>\n",
    "<div style=\"text-align:justify;font-size:1.2em;color:red;font-family:verdana\"> Utiliza el comando \"print\" para imprimir tu nombre completo, incluyendo segundo nombre y apellidos.</div>"
   ]
  },
  {
   "cell_type": "code",
   "execution_count": null,
   "metadata": {},
   "outputs": [],
   "source": [
    "# Escribe tu código aquí"
   ]
  },
  {
   "cell_type": "markdown",
   "metadata": {},
   "source": [
    "\n"
   ]
  },
  {
   "cell_type": "markdown",
   "metadata": {},
   "source": [
    "\n"
   ]
  },
  {
   "cell_type": "markdown",
   "metadata": {},
   "source": [
    "\n"
   ]
  },
  {
   "cell_type": "markdown",
   "metadata": {},
   "source": [
    "# Comentarios"
   ]
  },
  {
   "cell_type": "markdown",
   "metadata": {},
   "source": [
    "<div style=\"text-align:justify;font-size:1.1em;color:#2F2B29;font-family:verdana\"> Es buena práctica utilizar los \"comentarios\", los cuales son fragmentos de texto que no afectan el código y sirven como guía para la persona que escribe o modifica el código. Los comentarios pueden ayudar a explicar partes del código si este no es sencillo de interpretar, o pueden ayudar a un programador que toma código ajeno a entender el funcionamiento de la aplicación. Al momento de ejecutar el código, los comentarios no apareceran ni influirán en la ejecución.</div>"
   ]
  },
  {
   "cell_type": "markdown",
   "metadata": {},
   "source": [
    "<div style=\"text-align:justify;font-size:1.1em;color:#2F2B29;font-family:verdana\"> Para añadir comentarios, simplemente agregamos el símbolo \"#\" y escribimos la frase deseada. Todo lo que se escriba sobre ese mismo renglón  será considerado un comentario.</div>"
   ]
  },
  {
   "cell_type": "code",
   "execution_count": null,
   "metadata": {},
   "outputs": [],
   "source": [
    "# Comentario 1\n",
    "# Comentario 2\n",
    "# Comentario 3\n",
    "\n"
   ]
  },
  {
   "cell_type": "markdown",
   "metadata": {},
   "source": [
    "![imagen](materials/pencil2.PNG)"
   ]
  },
  {
   "cell_type": "markdown",
   "metadata": {},
   "source": [
    "#### <div style=\"text-align:center;font-size:1.3em;color:red;font-family:verdana\"> EJERCICIO 1.1-2 [1 minuto]</div>\n",
    "<div style=\"text-align:justify;font-size:1.2em;color:red;font-family:verdana\"> Agrega tu nombre y la fecha actual en la próxima celda como comentarios. Ejecútala. Los comentarios no deben afectar el resultado.</div>"
   ]
  },
  {
   "cell_type": "code",
   "execution_count": null,
   "metadata": {},
   "outputs": [],
   "source": [
    "# Modifica esta celda\n",
    "# Hernan Martinez\n",
    "# 16 de agosto de 2018"
   ]
  },
  {
   "cell_type": "markdown",
   "metadata": {},
   "source": [
    "\n",
    "\n"
   ]
  },
  {
   "cell_type": "markdown",
   "metadata": {},
   "source": [
    "\n",
    "\n"
   ]
  },
  {
   "cell_type": "markdown",
   "metadata": {},
   "source": [
    "\n",
    "\n"
   ]
  },
  {
   "cell_type": "markdown",
   "metadata": {},
   "source": [
    "---\n",
    "## <div style=\"text-align:left;font-size:1.1em;color:#666666;font-family:verdana\">1.2 VARIABLES</div>"
   ]
  },
  {
   "cell_type": "markdown",
   "metadata": {},
   "source": [
    "<div style=\"text-align:justify;font-size:1.1em;color:#2F2B29;font-family:verdana\"> Los lenguajes de programación permiten el uso de variables para contener y manipular valores. Estos valores pueden ser letras, palabras, números, etc. </div>"
   ]
  },
  {
   "cell_type": "markdown",
   "metadata": {},
   "source": [
    "<div style=\"text-align:justify;font-size:1.1em;color:#2F2B29;font-family:verdana\"> Para asignar un valor a una variable, escribimos el nombre de esta del lado izquierdo, seguido del símbolo  \"=\". Del lado derecho escribimos el valor que quedará guardado:  </div>"
   ]
  },
  {
   "cell_type": "code",
   "execution_count": null,
   "metadata": {},
   "outputs": [],
   "source": [
    "a=               \"2\"\n",
    "b = \"3\"\n",
    "c = \"cuatro\""
   ]
  },
  {
   "cell_type": "markdown",
   "metadata": {},
   "source": [
    "<div style=\"text-align:justify;font-size:1.1em;color:#2F2B29;font-family:verdana\"> Asignar un valor en sentido contrario produce un error:   </div>"
   ]
  },
  {
   "cell_type": "code",
   "execution_count": null,
   "metadata": {},
   "outputs": [],
   "source": [
    "\"2\" = a\n",
    "\"3\" = b"
   ]
  },
  {
   "cell_type": "markdown",
   "metadata": {},
   "source": [
    "<div style=\"text-align:justify;font-size:1.1em;color:#2F2B29;font-family:verdana\"> Agregar espacios en la asignación de los valores no afecta la ejecución, siempre y cuando se realice en un mismo renglón:   </div>"
   ]
  },
  {
   "cell_type": "code",
   "execution_count": null,
   "metadata": {},
   "outputs": [],
   "source": [
    "a=\"2\" # Es posible asignar un valor sin agregar espacios en la declaración.\n",
    "\n",
    "b                     =                 \"3\"  # Aquí agregamos espacios\n",
    "                                           # sin afectar el resultado"
   ]
  },
  {
   "cell_type": "markdown",
   "metadata": {},
   "source": [
    "<div style=\"text-align:justify;font-size:1.1em;color:#2F2B29;font-family:verdana\"> Sin embargo, como se mencionó anteriormente, hacer una asignación en varios renglones generará un error:  </div>"
   ]
  },
  {
   "cell_type": "code",
   "execution_count": null,
   "metadata": {},
   "outputs": [],
   "source": [
    "a =\n",
    "\"2\"\n"
   ]
  },
  {
   "cell_type": "markdown",
   "metadata": {},
   "source": [
    "![imagen](materials/pencil2.PNG)"
   ]
  },
  {
   "cell_type": "markdown",
   "metadata": {},
   "source": [
    "#### <div style=\"text-align:center;font-size:1.3em;color:red;font-family:verdana\"> EJERCICIO 1.2-1 [1 minuto] </div>\n",
    "<div style=\"text-align:justify;font-size:1.2em;color:red;font-family:verdana\"> Crea una variable y asignale tu nombre completo (con apellidos) como valor. Asegurate de que no se presenten errores al ejecutar la celda.</div>"
   ]
  },
  {
   "cell_type": "code",
   "execution_count": null,
   "metadata": {},
   "outputs": [],
   "source": [
    "# Escribe tu código aquí"
   ]
  },
  {
   "cell_type": "markdown",
   "metadata": {},
   "source": [
    "\n"
   ]
  },
  {
   "cell_type": "markdown",
   "metadata": {},
   "source": [
    "\n"
   ]
  },
  {
   "cell_type": "markdown",
   "metadata": {},
   "source": [
    "\n"
   ]
  },
  {
   "cell_type": "markdown",
   "metadata": {},
   "source": [
    "---\n",
    "# Imprimir el Valor de una Variable"
   ]
  },
  {
   "cell_type": "markdown",
   "metadata": {},
   "source": [
    "<div style=\"text-align:justify;font-size:1.1em;color:#2F2B29;font-family:verdana\"> Es posible utilizar el comando \"print\" para imprimir el valor de una variable: </div>"
   ]
  },
  {
   "cell_type": "code",
   "execution_count": null,
   "metadata": {},
   "outputs": [],
   "source": [
    "a = \"Hola, Mundo\"\n",
    "print(a)"
   ]
  },
  {
   "cell_type": "markdown",
   "metadata": {},
   "source": [
    "<div style=\"text-align:justify;font-size:1.1em;color:#2F2B29;font-family:verdana\"> Al momento de utilizar el comando \"print\" , debemos escribir el nombre de la variable sin comillas. </div>"
   ]
  },
  {
   "cell_type": "markdown",
   "metadata": {},
   "source": [
    "<div style=\"text-align:justify;font-size:1.1em;color:#2F2B29;font-family:verdana\"> Podemos imprimir diversas variables con un solo comando \"print\". Para  esto, debemos separar el nombre de las variables con una coma dentro de los paréntesis: </div>"
   ]
  },
  {
   "cell_type": "code",
   "execution_count": null,
   "metadata": {},
   "outputs": [],
   "source": [
    "a = \"Hola, Mundo\"\n",
    "b = \"¿Cómo estás?\"\n",
    "print(a,b)"
   ]
  },
  {
   "cell_type": "markdown",
   "metadata": {},
   "source": [
    "<div style=\"text-align:justify;font-size:1.1em;color:#2F2B29;font-family:verdana\"> Siguiendo esta convención, es posible imprimir cualquier número de variables usando un mismo \"print\":</div>"
   ]
  },
  {
   "cell_type": "code",
   "execution_count": null,
   "metadata": {},
   "outputs": [],
   "source": [
    "a = \"uno\"\n",
    "b = \"dos\"\n",
    "c = \"tres\"\n",
    "d = \"cuatro\"\n",
    "print(a,b,c,d) # En este caso la funcion \"print\" tiene 4 parámetros."
   ]
  },
  {
   "cell_type": "markdown",
   "metadata": {},
   "source": [
    "<div style=\"text-align:justify;font-size:1.1em;color:#2F2B29;font-family:verdana\"> También existe la posibilidad de imprimir una combinación de variables y constantes. Por ejemplo:</div>"
   ]
  },
  {
   "cell_type": "code",
   "execution_count": null,
   "metadata": {},
   "outputs": [],
   "source": [
    "a = \"Juan\"\n",
    "b = \"Perez\"\n",
    "\n",
    "print(\"Nombre:\",a,b)"
   ]
  },
  {
   "cell_type": "markdown",
   "metadata": {},
   "source": [
    "![imagen](materials/pencil2.PNG)"
   ]
  },
  {
   "cell_type": "markdown",
   "metadata": {},
   "source": [
    "#### <div style=\"text-align:center;font-size:1.3em;color:red;font-family:verdana\"> EJERCICIO 1.2-2 [2 minutos] </div>\n",
    "<div style=\"text-align:justify;font-size:1.2em;color:red;font-family:verdana\"> Crea 3 variables. Asigna como valores tu nombre y tus 2 apellidos (cada uno debe estar en una variable distinta). Utiliza un solo comando \"print\" para imprimir las 3 variables.</div>"
   ]
  },
  {
   "cell_type": "code",
   "execution_count": null,
   "metadata": {},
   "outputs": [],
   "source": [
    "# Escribe tu código aquí\n"
   ]
  },
  {
   "cell_type": "markdown",
   "metadata": {},
   "source": [
    "\n"
   ]
  },
  {
   "cell_type": "markdown",
   "metadata": {},
   "source": [
    "\n",
    "\n"
   ]
  },
  {
   "cell_type": "markdown",
   "metadata": {},
   "source": [
    "\n"
   ]
  },
  {
   "cell_type": "markdown",
   "metadata": {},
   "source": [
    "# Nombrar Variables"
   ]
  },
  {
   "cell_type": "markdown",
   "metadata": {},
   "source": [
    "<div style=\"text-align:justify;font-size:1.1em;color:#2F2B29;font-family:verdana\">Hasta el momento, hemos puesto nombre a  nuestras variables utilizado letras del abecedario, sin embargo, en Python es posible utilizar cualquier nombre, siempre y cuando se sigan las siguientes reglas:</div>"
   ]
  },
  {
   "cell_type": "markdown",
   "metadata": {},
   "source": [
    "\n",
    "- Inicien con una letra o un guión bajo.\n",
    "- No comiencen con un número.\n",
    "- Contengan únicamente caracteres alfanuméricos y guiones básicos."
   ]
  },
  {
   "cell_type": "markdown",
   "metadata": {},
   "source": [
    "<div style=\"text-align:justify;font-size:1.1em;color:#2F2B29;font-family:verdana\"> Los nombres de las variables son sensibles al uso de mayúsculas y minúsculas. Esto significa que variables con el mismo nombre pero con diferencias en el uso de mayúsculas y minúsculas serán tratadas como objetos distintos:</div>"
   ]
  },
  {
   "cell_type": "code",
   "execution_count": null,
   "metadata": {},
   "outputs": [],
   "source": [
    "ejemplo = \"uno\"\n",
    "EJEMPLO = \"dos\"\n",
    "\n",
    "print(ejemplo,EJEMPLO)"
   ]
  },
  {
   "cell_type": "markdown",
   "metadata": {},
   "source": [
    "\n"
   ]
  },
  {
   "cell_type": "markdown",
   "metadata": {},
   "source": [
    "\n"
   ]
  },
  {
   "cell_type": "markdown",
   "metadata": {},
   "source": [
    "# Tipos de Variables"
   ]
  },
  {
   "cell_type": "markdown",
   "metadata": {},
   "source": [
    "<div style=\"text-align:justify;font-size:1.1em;color:#2F2B29;font-family:verdana\"> El tipo de variable con el que hemos trabajado hasta este punto es el de \"string\", que es fundamentalmente texto. Python tiene otros tipos de variables, los cuales son útiles en diferentes situaciones. Algunos tipos importantes de variable soportados son:</div>"
   ]
  },
  {
   "cell_type": "markdown",
   "metadata": {},
   "source": [
    "\n",
    "- Booleanos\n",
    "- Numéricos\n",
    "- Strings*"
   ]
  },
  {
   "cell_type": "markdown",
   "metadata": {},
   "source": [
    "<div style=\"text-align:justify;font-size:1.1em;color:#2F2B29;font-family:verdana\"> Una función muy útil es \"type\", la cual nos permite conocer el tipo de variable que manejamos:</div>"
   ]
  },
  {
   "cell_type": "code",
   "execution_count": null,
   "metadata": {},
   "outputs": [],
   "source": [
    "testVar = \"Hola, Mundo\"\n",
    "print(type(testVar))"
   ]
  },
  {
   "cell_type": "markdown",
   "metadata": {},
   "source": [
    "<div style=\"text-align:justify;font-size:1.1em;color:#2F2B29;font-family:verdana\"> El ejemplo anterior nos muestra que la variable \"testVar\" es del tipo \"str\" (string). El resultado del comando \"type\" puede asignarse como valor de una variable o imprimirse con la función \"print\": </div>"
   ]
  },
  {
   "cell_type": "code",
   "execution_count": null,
   "metadata": {},
   "outputs": [],
   "source": [
    "a = \"ejemplo\"\n",
    "b = type(a)\n",
    "print(type(a))"
   ]
  },
  {
   "cell_type": "markdown",
   "metadata": {},
   "source": [
    "![imagen](materials/pencil2.PNG)"
   ]
  },
  {
   "cell_type": "markdown",
   "metadata": {},
   "source": [
    "#### <div style=\"text-align:center;font-size:1.3em;color:red;font-family:verdana\"> EJERCICIO 1.2-3 [2 minutos] </div>\n",
    "<div style=\"text-align:justify;font-size:1.2em;color:red;font-family:verdana\"> Imprime el tipo de cada una de las siguientes variables. ¿Qué resultados obtenemos?</div>"
   ]
  },
  {
   "cell_type": "code",
   "execution_count": null,
   "metadata": {},
   "outputs": [],
   "source": [
    "# Modifica esta celda\n"
   ]
  },
  {
   "cell_type": "markdown",
   "metadata": {},
   "source": [
    "\n"
   ]
  },
  {
   "cell_type": "markdown",
   "metadata": {},
   "source": [
    "\n"
   ]
  },
  {
   "cell_type": "markdown",
   "metadata": {},
   "source": [
    "\n"
   ]
  },
  {
   "cell_type": "markdown",
   "metadata": {},
   "source": [
    "# Variables del Tipo Numérico"
   ]
  },
  {
   "cell_type": "markdown",
   "metadata": {},
   "source": [
    "<div style=\"text-align:justify;font-size:1.1em;color:#2F2B29;font-family:verdana\"> Las variables de tipo numérico contienen valores que pueden utilizarse para hacer operaciones matemáticas. Es importante recalcar que los valores numéricos se asignan sin comillas: </div>"
   ]
  },
  {
   "cell_type": "code",
   "execution_count": null,
   "metadata": {},
   "outputs": [],
   "source": [
    "a = 2\n",
    "b = 3\n",
    "c = -5\n",
    "d = 3.5"
   ]
  },
  {
   "cell_type": "markdown",
   "metadata": {},
   "source": [
    "<div style=\"text-align:justify;font-size:1.1em;color:#2F2B29;font-family:verdana\"> Existen 3 tipos principales de valores numéricos: </div>"
   ]
  },
  {
   "cell_type": "markdown",
   "metadata": {},
   "source": [
    "\n",
    "- Integer\n",
    "- Float\n",
    "- Complex*"
   ]
  },
  {
   "cell_type": "markdown",
   "metadata": {},
   "source": [
    "<div style=\"text-align:justify;font-size:1.1em;color:#2F2B29;font-family:verdana\"> *El tercer tipo de variable numérica, \"complex\", sirve para utilizar números con una parte real y una imaginaria. Estos valores son utilizados casi únicamente en las ciencias e ingenierías, por lo que no se cubrirán en este curso.</div>"
   ]
  },
  {
   "cell_type": "markdown",
   "metadata": {},
   "source": [
    "\n"
   ]
  },
  {
   "cell_type": "markdown",
   "metadata": {},
   "source": [
    "\n"
   ]
  },
  {
   "cell_type": "markdown",
   "metadata": {},
   "source": [
    "# Variables Integer"
   ]
  },
  {
   "cell_type": "markdown",
   "metadata": {},
   "source": [
    "<div style=\"text-align:justify;font-size:1.1em;color:#2F2B29;font-family:verdana\">Las variables del tipo \"integer\" contienen valores enteros, es decir, números reales, con signo positivo o negativo y sin decimales:</div>"
   ]
  },
  {
   "cell_type": "code",
   "execution_count": null,
   "metadata": {},
   "outputs": [],
   "source": [
    "a = 5\n",
    "type(a)"
   ]
  },
  {
   "cell_type": "code",
   "execution_count": null,
   "metadata": {},
   "outputs": [],
   "source": [
    "b = -10\n",
    "type(b)"
   ]
  },
  {
   "cell_type": "markdown",
   "metadata": {},
   "source": [
    "<div style=\"text-align:justify;font-size:1.1em;color:#2F2B29;font-family:verdana\">Al utilizar el comando \"type\", una variable del tipo integer retornará el nombre \"int\".</div>"
   ]
  },
  {
   "cell_type": "markdown",
   "metadata": {},
   "source": [
    "\n"
   ]
  },
  {
   "cell_type": "markdown",
   "metadata": {},
   "source": [
    "\n"
   ]
  },
  {
   "cell_type": "markdown",
   "metadata": {},
   "source": [
    "# Variables Float"
   ]
  },
  {
   "cell_type": "markdown",
   "metadata": {},
   "source": [
    "<div style=\"text-align:justify;font-size:1.1em;color:#2F2B29;font-family:verdana\">Por otro lado, cuando deseamos utilizar decimales, empleamos variables de tipo \"float\":</div>"
   ]
  },
  {
   "cell_type": "code",
   "execution_count": null,
   "metadata": {},
   "outputs": [],
   "source": [
    "c = 6.3\n",
    "type(c)"
   ]
  },
  {
   "cell_type": "code",
   "execution_count": null,
   "metadata": {},
   "outputs": [],
   "source": [
    "d = -7.49\n",
    "type(d)"
   ]
  },
  {
   "cell_type": "markdown",
   "metadata": {},
   "source": [
    "<div style=\"text-align:justify;font-size:1.1em;color:#2F2B29;font-family:verdana\">Al utilizar el comando \"type\", una variable del tipo float retornará el nombre \"float\".</div>"
   ]
  },
  {
   "cell_type": "markdown",
   "metadata": {},
   "source": [
    "\n"
   ]
  },
  {
   "cell_type": "markdown",
   "metadata": {},
   "source": [
    "\n"
   ]
  },
  {
   "cell_type": "markdown",
   "metadata": {},
   "source": [
    "# Operaciones Matemáticas"
   ]
  },
  {
   "cell_type": "markdown",
   "metadata": {},
   "source": [
    "<div style=\"text-align:justify;font-size:1.1em;color:#2F2B29;font-family:verdana\"> Aunque existan muchas operaciones para manipular los valores numéricos, las más comunes son las de suma, resta, multiplicación y división. Es posible asignar una operación como el valor de una variable:</div>"
   ]
  },
  {
   "cell_type": "code",
   "execution_count": null,
   "metadata": {},
   "outputs": [],
   "source": [
    "a = 2 + 3\n",
    "print(a)"
   ]
  },
  {
   "cell_type": "code",
   "execution_count": null,
   "metadata": {},
   "outputs": [],
   "source": [
    "b = 7 - 4.5\n",
    "print(b)"
   ]
  },
  {
   "cell_type": "code",
   "execution_count": null,
   "metadata": {},
   "outputs": [],
   "source": [
    "c = 8 * 2\n",
    "print(b)"
   ]
  },
  {
   "cell_type": "code",
   "execution_count": null,
   "metadata": {},
   "outputs": [],
   "source": [
    "d = -20 / 10\n",
    "print(d)"
   ]
  },
  {
   "cell_type": "markdown",
   "metadata": {},
   "source": [
    "<div style=\"text-align:justify;font-size:1.1em;color:#2F2B29;font-family:verdana\"> Es posible utilizar otras variables en las operaciones matemáticas al momento de declarar una variable: </div>"
   ]
  },
  {
   "cell_type": "code",
   "execution_count": null,
   "metadata": {},
   "outputs": [],
   "source": [
    "a = 4\n",
    "b = 5\n",
    "c = a + b\n",
    "print(c)"
   ]
  },
  {
   "cell_type": "markdown",
   "metadata": {},
   "source": [
    "<div style=\"text-align:justify;font-size:1.1em;color:#2F2B29;font-family:verdana\"> También se puede combinar valores constantes con variables durante la asignación:\n",
    "</div>"
   ]
  },
  {
   "cell_type": "code",
   "execution_count": null,
   "metadata": {},
   "outputs": [],
   "source": [
    "d = 6\n",
    "e = 5 * d\n",
    "print(e)"
   ]
  },
  {
   "cell_type": "markdown",
   "metadata": {},
   "source": [
    "<div style=\"text-align:justify;font-size:1.1em;color:#2F2B29;font-family:verdana\"> Python nos permite escribir ecuaciones matemáticas relativamente largas y complejas. Sin embargo, debemos recordar el orden de ejecución: primero se resuelven los paréntesis, luego multiplicación y división y al final suma y resta. Por ejemplo:</div>"
   ]
  },
  {
   "cell_type": "code",
   "execution_count": null,
   "metadata": {},
   "outputs": [],
   "source": [
    "a = 2\n",
    "b = 3\n",
    "c = 4\n",
    "\n",
    "d = (4*a + 3*b -2*c)/2\n",
    "print(d)"
   ]
  },
  {
   "cell_type": "markdown",
   "metadata": {},
   "source": [
    "<div style=\"text-align:justify;font-size:1.1em;color:#2F2B29;font-family:verdana\"> ¿Cuál será el valor de la variable \"d\"?</div>"
   ]
  },
  {
   "cell_type": "markdown",
   "metadata": {},
   "source": [
    "![imagen](materials/pencil2.PNG)"
   ]
  },
  {
   "cell_type": "markdown",
   "metadata": {},
   "source": [
    "#### <div style=\"text-align:center;font-size:1.3em;color:red;font-family:verdana\"> EJERCICIO 1.2-4 [4 minutos] </div>\n",
    "<div style=\"text-align:justify;font-size:1.2em;color:red;font-family:verdana\"> Crea una variable cuyo valor sea igual a una fórmula matemática (operación matemática). La operación debe multiplicar cada una de las 3 variables proporcionadas por 2, para luego sumar los resultados.  Imprime el valor resultante.</div>"
   ]
  },
  {
   "cell_type": "code",
   "execution_count": null,
   "metadata": {},
   "outputs": [],
   "source": [
    "# Modifica esta celda\n",
    "\n",
    "# Agrega tu código aquí\n",
    "# ...\n",
    "\n"
   ]
  },
  {
   "cell_type": "markdown",
   "metadata": {},
   "source": [
    "\n"
   ]
  },
  {
   "cell_type": "markdown",
   "metadata": {},
   "source": [
    "\n"
   ]
  },
  {
   "cell_type": "markdown",
   "metadata": {},
   "source": [
    "\n"
   ]
  },
  {
   "cell_type": "markdown",
   "metadata": {},
   "source": [
    "# Variables del Tipo String"
   ]
  },
  {
   "cell_type": "markdown",
   "metadata": {},
   "source": [
    "<div style=\"text-align:justify;font-size:1.1em;color:#2F2B29;font-family:verdana\"> Cuando se busca guardar y manipular texto, el tipo de variable que utilizaremos será el de \"string\". Una aclaración importante es que el tipo \"string\" no es formalmente una clase de variable, sino más bien una estructura de datos compuesta por caracteres.  </div>"
   ]
  },
  {
   "cell_type": "markdown",
   "metadata": {},
   "source": [
    "<div style=\"text-align:justify;font-size:1.1em;color:#2F2B29;font-family:verdana\"> Las variables del tipo \"string\" pueden ser concatenadas entre sí para formar textos más extensos:</div>"
   ]
  },
  {
   "cell_type": "code",
   "execution_count": null,
   "metadata": {},
   "outputs": [],
   "source": [
    "a = \"Hola\"\n",
    "b = \"como estás?\"\n",
    "c = a + b\n",
    "print(c)"
   ]
  },
  {
   "cell_type": "markdown",
   "metadata": {},
   "source": [
    "![imagen](materials/pencil2.PNG)"
   ]
  },
  {
   "cell_type": "markdown",
   "metadata": {},
   "source": [
    "#### <div style=\"text-align:center;font-size:1.3em;color:red;font-family:verdana\"> EJERCICIO 1.2-5 [2 minutos] </div>\n",
    "<div style=\"text-align:justify;font-size:1.2em;color:red;font-family:verdana\"> Guarda tu nombre y cada uno de tus apellidos en variables distintas. Crea una nueva variable y asignale de valor la concatenación de las 3 variables anteriores. Imprime el resultado.</div>"
   ]
  },
  {
   "cell_type": "code",
   "execution_count": null,
   "metadata": {},
   "outputs": [],
   "source": [
    "# Agrega tu código aquí\n",
    "# ..."
   ]
  },
  {
   "cell_type": "markdown",
   "metadata": {},
   "source": [
    "\n"
   ]
  },
  {
   "cell_type": "markdown",
   "metadata": {},
   "source": [
    "\n"
   ]
  },
  {
   "cell_type": "markdown",
   "metadata": {},
   "source": [
    "\n"
   ]
  },
  {
   "cell_type": "markdown",
   "metadata": {},
   "source": [
    "# Variables del Tipo Boolean"
   ]
  },
  {
   "cell_type": "markdown",
   "metadata": {},
   "source": [
    "<div style=\"text-align:justify;font-size:1.1em;color:#2F2B29;font-family:verdana\"> Las variables del tipo \"boolean\" pueden tener únicamente 2 valores: \"True\" o \"False\". Este tipo de variables sirve para hacer operaciones lógicas y serán útiles cuando utilicemos código condicional. </div>"
   ]
  },
  {
   "cell_type": "code",
   "execution_count": null,
   "metadata": {},
   "outputs": [],
   "source": [
    "a = True\n",
    "b = False\n",
    "\n",
    "print(a)\n",
    "type(a)"
   ]
  },
  {
   "cell_type": "markdown",
   "metadata": {},
   "source": [
    "<div style=\"text-align:justify;font-size:1.1em;color:#2F2B29;font-family:verdana\"> Para asignar estos valores, escribimos la palabra \"True\" o \"False\" sin comillas y con la primera letra en mayúscula. Si utilizamos el comando \"type\", este nos regresará el valor \"bool\".   </div>"
   ]
  },
  {
   "cell_type": "markdown",
   "metadata": {},
   "source": [
    "<div style=\"text-align:justify;font-size:1.1em;color:#2F2B29;font-family:verdana\"> Como dato curioso, si intentamos realizar una operación matemática con una variable del tipo \"boolean\", el valor de \"True\" será tomado como \"1\" y el  de \"False\" como \"0\":   </div>"
   ]
  },
  {
   "cell_type": "code",
   "execution_count": null,
   "metadata": {},
   "outputs": [],
   "source": [
    "a = True\n",
    "b = False\n",
    "c = 1 + a\n",
    "d = 1 + b\n",
    "print(c)\n",
    "print(d)"
   ]
  },
  {
   "cell_type": "markdown",
   "metadata": {},
   "source": [
    "\n"
   ]
  },
  {
   "cell_type": "markdown",
   "metadata": {},
   "source": [
    "\n"
   ]
  },
  {
   "cell_type": "markdown",
   "metadata": {},
   "source": [
    "# Operadores de Comparación"
   ]
  },
  {
   "cell_type": "markdown",
   "metadata": {},
   "source": [
    "<div style=\"text-align:justify;font-size:1.1em;color:#2F2B29;font-family:verdana\"> En Python podemos hacer una comparación entre  valores de diferentes variables y obtener un resultado Booleano, esto es, un valor \"True\" o \"False\". Los operadores disponibles son los siguientes: </div>"
   ]
  },
  {
   "cell_type": "markdown",
   "metadata": {},
   "source": [
    "\n",
    "\n",
    "|SÍMBOLO|OPERACIÓN|\n",
    "|-------| -------|\n",
    "|<div style=\"text-align: center\"><</div>    |<div style=\"text-align: center\">Menor</div>  |\n",
    "|<div style=\"text-align: center\">></div>  |<div style=\"text-align: center\">Mayor</div> |\n",
    "|<div style=\"text-align: center\">==</div>  |<div style=\"text-align: center\">Igual</div> |\n",
    "|<div style=\"text-align: center\">!=</div>  |<div style=\"text-align: center\">Distinto</div> |\n",
    "|<div style=\"text-align: center\"><=</div>  |<div style=\"text-align: center\">Igual o Menor</div> |\n",
    "|<div style=\"text-align: center\">>=</div>  |<div style=\"text-align: center\">Igual o Mayor</div> |\n"
   ]
  },
  {
   "cell_type": "markdown",
   "metadata": {},
   "source": [
    "<div style=\"text-align:justify;font-size:1.1em;color:#2F2B29;font-family:verdana\"> Por ejemplo, podemos comparar el valor de 2 constantes: </div>"
   ]
  },
  {
   "cell_type": "code",
   "execution_count": null,
   "metadata": {},
   "outputs": [],
   "source": [
    "5 > 3"
   ]
  },
  {
   "cell_type": "markdown",
   "metadata": {},
   "source": [
    "<div style=\"text-align:justify;font-size:1.1em;color:#2F2B29;font-family:verdana\"> Si ejecutamos la celda anterior, nos arrojará un valor de \"True\", ya que 5 es mayor que 3. Si por el contrario, escribimos una comparación incorrecta: </div>"
   ]
  },
  {
   "cell_type": "code",
   "execution_count": null,
   "metadata": {},
   "outputs": [],
   "source": [
    "5 < 3"
   ]
  },
  {
   "cell_type": "markdown",
   "metadata": {},
   "source": [
    "<div style=\"text-align:justify;font-size:1.1em;color:#2F2B29;font-family:verdana\"> El resultado será un valor \"False\", ya que 5 no es mayor que 3.  </div>"
   ]
  },
  {
   "cell_type": "markdown",
   "metadata": {},
   "source": [
    "<div style=\"text-align:justify;font-size:1.1em;color:#2F2B29;font-family:verdana\"> Pero, ¿qué pasaría si comparamos un valor numérico con un string? Si la operación busca probar si los valores son iguales o diferentes, entonces sí obtendremos un resultado:"
   ]
  },
  {
   "cell_type": "code",
   "execution_count": null,
   "metadata": {},
   "outputs": [],
   "source": [
    "7 == \"ejemplo\""
   ]
  },
  {
   "cell_type": "code",
   "execution_count": null,
   "metadata": {},
   "outputs": [],
   "source": [
    "7 != \"ejemplo\""
   ]
  },
  {
   "cell_type": "markdown",
   "metadata": {},
   "source": [
    "<div style=\"text-align:justify;font-size:1.1em;color:#2F2B29;font-family:verdana\"> Sin embargo, no es posible hacer una comparación del tipo \"mayor/menor\" entre un valor numérico y un string. Si lo hacemos, la consola nos arrojará un error:"
   ]
  },
  {
   "cell_type": "code",
   "execution_count": null,
   "metadata": {},
   "outputs": [],
   "source": [
    "7 > \"ejemplo\""
   ]
  },
  {
   "cell_type": "markdown",
   "metadata": {},
   "source": [
    "<div style=\"text-align:justify;font-size:1.1em;color:#2F2B29;font-family:verdana\"> Las comparaciones lógicas pueden hacerse también entre variables:"
   ]
  },
  {
   "cell_type": "code",
   "execution_count": null,
   "metadata": {},
   "outputs": [],
   "source": [
    "a = 7 \n",
    "b = 8\n",
    "\n",
    "a <= b"
   ]
  },
  {
   "cell_type": "markdown",
   "metadata": {},
   "source": [
    "<div style=\"text-align:justify;font-size:1.1em;color:#2F2B29;font-family:verdana\"> Finalmente, podemos usar una comparación para asignarle un valor booleano a una variable:</div>"
   ]
  },
  {
   "cell_type": "code",
   "execution_count": null,
   "metadata": {},
   "outputs": [],
   "source": [
    "a = -5\n",
    "b = 20\n",
    "\n",
    "c = a > b\n",
    "print(c)"
   ]
  },
  {
   "cell_type": "markdown",
   "metadata": {},
   "source": [
    "# Operadores Lógicos (AND, OR, NOT)"
   ]
  },
  {
   "cell_type": "markdown",
   "metadata": {},
   "source": [
    "Los operadores lógicos son usados para combinar o evaluar declaraciones condicionales. Son similares y equivalentes a las compuertas lógicas de electrónica."
   ]
  },
  {
   "cell_type": "markdown",
   "metadata": {},
   "source": [
    "### Operador AND\n",
    "El operador AND regresa (returns) o convierte la sentencia lógica en True si y sólo si ambos operandos son True."
   ]
  },
  {
   "cell_type": "code",
   "execution_count": null,
   "metadata": {},
   "outputs": [],
   "source": [
    "print(\"True and False: \", True and False)\n",
    "print(\"False and True: \", False and True)\n",
    "print(\"False and False: \", False and False)\n",
    "print(\"True and True: \", True and True)"
   ]
  },
  {
   "cell_type": "markdown",
   "metadata": {},
   "source": [
    "### Operador OR\n",
    "El Operador OR regresa (returns) o convierte la sentencia lógica en True si al menos uno de los operandos es True."
   ]
  },
  {
   "cell_type": "code",
   "execution_count": null,
   "metadata": {},
   "outputs": [],
   "source": [
    "print(\"True or False: \", True or False)\n",
    "print(\"False or True: \", False or True)\n",
    "print(\"False or False: \", False or False)\n",
    "print(\"True or True: \", True or True)"
   ]
  },
  {
   "cell_type": "markdown",
   "metadata": {},
   "source": [
    "### Operador NOT\n",
    "El operador NOT regresa (returns) el valor booleano contrario al del operando (el antónimo)."
   ]
  },
  {
   "cell_type": "code",
   "execution_count": null,
   "metadata": {},
   "outputs": [],
   "source": [
    "print(\"not True: \", not True)\n",
    "print(\"not False: \", not False)"
   ]
  },
  {
   "cell_type": "markdown",
   "metadata": {},
   "source": [
    "### Combinaciones de Operadores Lógicos\n",
    "Los operadores lógicos se pueden combinar con varios operadores lógicos, no sólo se limita a dos. No obstante, a la hora de evaluar la sentencia, los operadores lógicos evalúan de dos en dos las declaraciones (para el AND y OR) y de uno en uno (para el NOT). Se recomienda utilizar paréntesis para clarificar el orden de evaluación de los operandos y ser más consistentes a la hora de escribir y analizar código."
   ]
  },
  {
   "cell_type": "code",
   "execution_count": null,
   "metadata": {},
   "outputs": [],
   "source": [
    "print(\"not (True and False) or (not True and not False) and (True and True) or (not False and True): \", not (True and False) or (not True and not False) and (True and True) or (not False and True) )"
   ]
  },
  {
   "cell_type": "markdown",
   "metadata": {},
   "source": [
    "![imagen](materials/pencil2.PNG)"
   ]
  },
  {
   "cell_type": "markdown",
   "metadata": {},
   "source": [
    "#### <div style=\"text-align:center;font-size:1.3em;color:red;font-family:verdana\"> EJERCICIO 1.2-6 [3 minutos] </div>\n",
    "<div style=\"text-align:justify;font-size:1.2em;color:red;font-family:verdana\"> ¿Qué resultado tendríamos al evaluar la siguiente declaración lógica?.</div>"
   ]
  },
  {
   "cell_type": "code",
   "execution_count": null,
   "metadata": {},
   "outputs": [],
   "source": [
    "((True and not True) and (False and not True)) and (False or not False) and True"
   ]
  }
 ],
 "metadata": {
  "kernelspec": {
   "display_name": "Python 3",
   "language": "python",
   "name": "python3"
  },
  "language_info": {
   "codemirror_mode": {
    "name": "ipython",
    "version": 3
   },
   "file_extension": ".py",
   "mimetype": "text/x-python",
   "name": "python",
   "nbconvert_exporter": "python",
   "pygments_lexer": "ipython3",
   "version": "3.6.5"
  }
 },
 "nbformat": 4,
 "nbformat_minor": 2
}
