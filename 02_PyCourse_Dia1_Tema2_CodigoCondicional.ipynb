{
 "cells": [
  {
   "cell_type": "markdown",
   "metadata": {},
   "source": [
    "### <font color='black'><div style=\"text-align: center\">2018</div></font>\n",
    "---\n",
    "![image](materials/python_logo.png)\n",
    "# <div style=\"text-align:center;font-size:1.8em;color:#227FBA;font-family:verdana\">CURSO BÁSICO DE PYTHON</div>\n",
    "## <div style=\"text-align:center;font-size:1.2em;color:#227FBA;font-family:verdana\">DÍA 1</div>\n",
    "\n",
    "<div font color='gray'><div style=\"text-align: center\">AXTEL</div>\n"
   ]
  },
  {
   "cell_type": "markdown",
   "metadata": {},
   "source": [
    "\n",
    "# <div style=\"text-align:center;font-size:1.1em;color:#227FBA;font-family:verdana\">2. CÓDIGO CONDICIONAL </div>\n"
   ]
  },
  {
   "cell_type": "markdown",
   "metadata": {},
   "source": [
    "## <div style=\"text-align:left;font-size:1.1em;color:#666666;font-family:verdana\">2.1 CÓDIGO CONDICIONAL</div>\n"
   ]
  },
  {
   "cell_type": "markdown",
   "metadata": {},
   "source": [
    "# Comando if"
   ]
  },
  {
   "cell_type": "markdown",
   "metadata": {},
   "source": [
    "<div style=\"text-align:justify;font-size:1.1em;color:#2F2B29;font-family:verdana\"> El código condicional se ejecuta únicamente cuando se cumplen ciertas condiciones preestablecidas. La declaración (o estructura de control o comando) que nos permite esto es \"if\". </div>"
   ]
  },
  {
   "cell_type": "markdown",
   "metadata": {},
   "source": [
    "<div style=\"text-align:justify;font-size:1.1em;color:#2F2B29;font-family:verdana\"> Por ejemplo, imaginemos que deseamos correr cierto código únicamente si el valor de una cierta variable de nombre \"a\" es mayor que 1. Si es mayor que este valor, se imprimirá la frase \"Valor mayor que 1\". De lo contrario, no pasará nada. Podemos resumir este comportamiento con el siguiente diagrama:</div>"
   ]
  },
  {
   "cell_type": "markdown",
   "metadata": {},
   "source": [
    "![image](materials/if0.png)"
   ]
  },
  {
   "cell_type": "markdown",
   "metadata": {},
   "source": [
    "<div style=\"text-align:justify;font-size:1.1em;color:#2F2B29;font-family:verdana\"> El diagrama anterior puede ser codificado de la siguiente manera:</div>"
   ]
  },
  {
   "cell_type": "code",
   "execution_count": 1,
   "metadata": {},
   "outputs": [],
   "source": [
    "a=1\n",
    "if (a>1):\n",
    "    print(\"Valor mayor que 1\")"
   ]
  },
  {
   "cell_type": "markdown",
   "metadata": {},
   "source": [
    "<div style=\"text-align:justify;font-size:1.1em;color:#2F2B29;font-family:verdana\"> Probemos el código. Intenta sustituir el valor de la variable \"a\" en la celda siguiente y ejecutala para verificar que el código funciona correctamente:</div>"
   ]
  },
  {
   "cell_type": "code",
   "execution_count": 2,
   "metadata": {},
   "outputs": [
    {
     "name": "stdout",
     "output_type": "stream",
     "text": [
      "Valor mayor que 1\n"
     ]
    }
   ],
   "source": [
    "a = 2\n",
    "if (a>1):\n",
    "    print(\"Valor mayor que 1\")"
   ]
  },
  {
   "cell_type": "markdown",
   "metadata": {},
   "source": [
    "<div style=\"text-align:justify;font-size:1.1em;color:#2F2B29;font-family:verdana\"> El formato de la declaración \"if\" es especial. Primeramente, luego de escribir \"if\", debemos declarar una comparación (para obtener un valor booleano), la cual puede ir o no dentro de paréntesis. Esta irá seguida de dos puntos. </div>"
   ]
  },
  {
   "cell_type": "markdown",
   "metadata": {},
   "source": [
    "![image](materials/if2.png)"
   ]
  },
  {
   "cell_type": "markdown",
   "metadata": {},
   "source": [
    "<div style=\"text-align:justify;font-size:1.1em;color:#2F2B29;font-family:verdana\"> Una vez establecida la condición, procedemos a agregar el código a ejecutar en el renglón inferior. Este código que debe estar indentado, es decir, debe speararse del margen izquierdo por una cierta cantidad de espacios. En este caso, lo alejaremos del margen por 4 espacios. Una manera rápida de hacer esto es utilizar la tecla \"tab\". "
   ]
  },
  {
   "cell_type": "markdown",
   "metadata": {},
   "source": [
    "![image](materials/if4.png)"
   ]
  },
  {
   "cell_type": "markdown",
   "metadata": {},
   "source": [
    "![imagen](materials/pencil2.png)"
   ]
  },
  {
   "cell_type": "markdown",
   "metadata": {},
   "source": [
    "#### <div style=\"text-align:CENTER;font-size:1.3em;color:red;font-family:verdana\"> EJERCICIO 2.1-1 [1 minuto]</div>\n",
    "<div style=\"text-align:justify;font-size:1.2em;color:red;font-family:verdana\"> Utiliza la función \"if\" para crear código que imprima la frase \"Valor igual a  0\" si la variable \"a\" es igual a 0. Pruebala con diferentes valores. </div>"
   ]
  },
  {
   "cell_type": "code",
   "execution_count": null,
   "metadata": {},
   "outputs": [],
   "source": [
    "# Escribe tu código aquí\n"
   ]
  },
  {
   "cell_type": "markdown",
   "metadata": {},
   "source": [
    "\n"
   ]
  },
  {
   "cell_type": "markdown",
   "metadata": {},
   "source": [
    "\n"
   ]
  },
  {
   "cell_type": "markdown",
   "metadata": {},
   "source": [
    "\n"
   ]
  },
  {
   "cell_type": "markdown",
   "metadata": {},
   "source": [
    "# Comando else"
   ]
  },
  {
   "cell_type": "markdown",
   "metadata": {},
   "source": [
    "<div style=\"text-align:justify;font-size:1.1em;color:#2F2B29;font-family:verdana\"> Un complemento para la declaración \"if\" es la declaración \"else\". Al utilizarla, podemos especificar que se ejecute cierto código cuando las condiciones del \"if\" no se cumplen. </div>"
   ]
  },
  {
   "cell_type": "markdown",
   "metadata": {},
   "source": [
    "<div style=\"text-align:justify;font-size:1.1em;color:#2F2B29;font-family:verdana\"> Por ejemplo, podemos complementar el ejemplo al inicio de este módulo agregándole una funcionalidad más: si el valor de una variable \"a\" NO es mayor que 1, entonces se imprime \"Valor menor o igual a 1\". El diagrama que resume este comportamiento es el siguiente: </div>"
   ]
  },
  {
   "cell_type": "markdown",
   "metadata": {},
   "source": [
    "![image](materials/if6.png)"
   ]
  },
  {
   "cell_type": "markdown",
   "metadata": {},
   "source": [
    "<div style=\"text-align:justify;font-size:1.1em;color:#2F2B29;font-family:verdana\"> El diagrama anterior puede ser codificado de la siguiente manera:</div>"
   ]
  },
  {
   "cell_type": "code",
   "execution_count": null,
   "metadata": {},
   "outputs": [],
   "source": [
    "if (a>1):\n",
    "    print(\"Valor mayor que 1\")\n",
    "else:\n",
    "    print(\"Valor menor o igual a 1\")"
   ]
  },
  {
   "cell_type": "markdown",
   "metadata": {},
   "source": [
    "<div style=\"text-align:justify;font-size:1.1em;color:#2F2B29;font-family:verdana\"> Ahora, probemos el código dándole diversos valores a la variable \"a\":</div>"
   ]
  },
  {
   "cell_type": "code",
   "execution_count": null,
   "metadata": {},
   "outputs": [],
   "source": [
    "a = 5\n",
    "\n",
    "if (a>1):\n",
    "    print(\"Valor mayor que 1\")\n",
    "else:\n",
    "    print(\"Valor menor o igual a 1\")"
   ]
  },
  {
   "cell_type": "markdown",
   "metadata": {},
   "source": [
    "<div style=\"text-align:justify;font-size:1.1em;color:#2F2B29;font-family:verdana\"> Podemos notar que el formato de la declaración \"else\" es muy parecido al de \"if\". Sin embargo, no se agrega ninguna condición luego del nombre del comando (declaración), ya que \"else\" tomará TODOS los casos en los que la condición de \"if\" no se cumpla. El código condicional tiene un indentado de 4 espacios también. </div>"
   ]
  },
  {
   "cell_type": "markdown",
   "metadata": {},
   "source": [
    "![imagen](materials/pencil2.png)"
   ]
  },
  {
   "cell_type": "markdown",
   "metadata": {},
   "source": [
    "#### <div style=\"text-align:CENTER;font-size:1.3em;color:red;font-family:verdana\"> EJERCICIO 2.1-2 [5 minutos]</div>\n",
    "<div style=\"text-align:justify;font-size:1.2em;color:red;font-family:verdana\">Imaginemos que queremos crear un software que le diga a un usuario si tiene o no más de 50 años con base a su año de nacimiento. Utiliza las declaraciones \"if\" y \"else\" para crear código que clasifique la edad con base a una variable de nombre \"año\". Si el valor de año es menor o igual a 1968, el código debe imprimir el mensaje \"Tienes 50 años o más\". Si el valor es mayor a esa cantidad, se debe imprimir \"Tienes menos de 50 años\". Prueba tu código con diferentes valores para la variable \"año\". </div>"
   ]
  },
  {
   "cell_type": "code",
   "execution_count": 3,
   "metadata": {},
   "outputs": [],
   "source": [
    "# Escribe tu código aquí\n",
    "\n",
    "\n",
    "# Pista:\n",
    "# if (año <= 1968)...\n"
   ]
  },
  {
   "cell_type": "markdown",
   "metadata": {},
   "source": [
    "\n"
   ]
  },
  {
   "cell_type": "markdown",
   "metadata": {},
   "source": [
    "\n"
   ]
  },
  {
   "cell_type": "markdown",
   "metadata": {},
   "source": [
    "\n"
   ]
  },
  {
   "cell_type": "markdown",
   "metadata": {},
   "source": [
    "# Comando elif"
   ]
  },
  {
   "cell_type": "markdown",
   "metadata": {},
   "source": [
    "<div style=\"text-align:justify;font-size:1.1em;color:#2F2B29;font-family:verdana\"> En ocasiones debemos programar un comportamiento más específico que ejecute código solo en  casos bien definidos. Es entonces que podemos utilizar la declaración \"elif\". </div>"
   ]
  },
  {
   "cell_type": "markdown",
   "metadata": {},
   "source": [
    "<div style=\"text-align:justify;font-size:1.1em;color:#2F2B29;font-family:verdana\"> Veamos un ejemplo sencillo. Cambia el valor de la variable \"opcion\" y ejecuta la celda para apreciar el funcionamiento de \"elif\": </div>"
   ]
  },
  {
   "cell_type": "code",
   "execution_count": null,
   "metadata": {},
   "outputs": [],
   "source": [
    "# Modifica esta celda\n",
    "\n",
    "opcion = 1\n",
    "\n",
    "if (opcion==1):\n",
    "    print(\"Escogiste la opción 1\")\n",
    "    \n",
    "elif (opcion==2):\n",
    "    print(\"Escogiste la opción 2\")\n",
    "    \n",
    "else:\n",
    "    print(\"Opción no soportada\")"
   ]
  },
  {
   "cell_type": "markdown",
   "metadata": {},
   "source": [
    "<div style=\"text-align:justify;font-size:1.1em;color:#2F2B29;font-family:verdana\"> Podemos describir el código anterior con el siguiente diagrama:</div>"
   ]
  },
  {
   "cell_type": "markdown",
   "metadata": {},
   "source": [
    "![image](materials/if8.png)"
   ]
  },
  {
   "cell_type": "markdown",
   "metadata": {},
   "source": [
    "<div style=\"text-align:justify;font-size:1.1em;color:#2F2B29;font-family:verdana\"> No tenemos que limitarnos a un solo \"elif\". Podemos utilizar el número que deseemos: </div>"
   ]
  },
  {
   "cell_type": "code",
   "execution_count": null,
   "metadata": {},
   "outputs": [],
   "source": [
    "# Modifica el valor de \"opcion\" y ejecuta la celda\n",
    "\n",
    "opcion = 5\n",
    "\n",
    "if (opcion==1):\n",
    "    print(\"Escogiste la opción 1\")\n",
    "    \n",
    "elif (opcion==2):\n",
    "    print(\"Escogiste la opción 2\")\n",
    "    \n",
    "elif (opcion==3):\n",
    "    print(\"Escogiste la opción 3\")\n",
    "    \n",
    "elif (opcion==4):\n",
    "    print(\"Escogiste la opción 4\")\n",
    "    \n",
    "elif (opcion==5):\n",
    "    print(\"Escogiste la opción 5\")\n",
    "    \n",
    "# Podemos seguir agregando elifs\n",
    "    \n",
    "else:\n",
    "    print(\"Opción no soportada\")"
   ]
  },
  {
   "cell_type": "markdown",
   "metadata": {},
   "source": [
    "![imagen](materials/pencil2.png)"
   ]
  },
  {
   "cell_type": "markdown",
   "metadata": {},
   "source": [
    "#### <div style=\"text-align:CENTER;font-size:1.3em;color:red;font-family:verdana\"> EJERCICIO 2.1-3 [5 minutos]</div>\n",
    "<div style=\"text-align:justify;font-size:1.2em;color:red;font-family:verdana\"> Utiliza la declaraciones o comandos \"if\", \"else\" y \"elif\" para crear código que reciba un número del 1 al 10 (integer) y lo convierta a letra (\"uno\", \"dos\", etc).</div>"
   ]
  },
  {
   "cell_type": "code",
   "execution_count": null,
   "metadata": {},
   "outputs": [],
   "source": [
    "# Escribe tu código aquí\n",
    "\n"
   ]
  },
  {
   "cell_type": "markdown",
   "metadata": {},
   "source": [
    "\n"
   ]
  },
  {
   "cell_type": "markdown",
   "metadata": {},
   "source": [
    "\n"
   ]
  },
  {
   "cell_type": "markdown",
   "metadata": {},
   "source": [
    "\n"
   ]
  },
  {
   "cell_type": "markdown",
   "metadata": {},
   "source": [
    "\n"
   ]
  },
  {
   "cell_type": "markdown",
   "metadata": {},
   "source": [
    "\n"
   ]
  },
  {
   "cell_type": "markdown",
   "metadata": {},
   "source": [
    "\n"
   ]
  }
 ],
 "metadata": {
  "kernelspec": {
   "display_name": "Python 3",
   "language": "python",
   "name": "python3"
  },
  "language_info": {
   "codemirror_mode": {
    "name": "ipython",
    "version": 3
   },
   "file_extension": ".py",
   "mimetype": "text/x-python",
   "name": "python",
   "nbconvert_exporter": "python",
   "pygments_lexer": "ipython3",
   "version": "3.6.5"
  }
 },
 "nbformat": 4,
 "nbformat_minor": 2
}
