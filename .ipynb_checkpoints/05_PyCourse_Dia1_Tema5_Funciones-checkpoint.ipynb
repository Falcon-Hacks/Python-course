{
 "cells": [
  {
   "cell_type": "markdown",
   "metadata": {},
   "source": [
    "### <font color='black'><div style=\"text-align: center\">2018</div></font>\n",
    "---\n",
    "![image](materials/python_logo.png)\n",
    "# <div style=\"text-align:center;font-size:1.8em;color:purple;font-family:verdana\">CURSO BÁSICO DE PYTHON</div>\n",
    "## <div style=\"text-align:center;font-size:1.2em;color:purple;font-family:verdana\">DÍA 1</div>\n",
    "\n",
    "<div font color='gray'><div style=\"text-align: center\">AXTEL</div>\n"
   ]
  },
  {
   "cell_type": "markdown",
   "metadata": {},
   "source": [
    "\n",
    "# <div style=\"text-align:center;font-size:1.1em;color:purple;font-family:verdana\">5. FUNCIONES </div>\n"
   ]
  },
  {
   "cell_type": "markdown",
   "metadata": {},
   "source": [
    "## <div style=\"text-align:left;font-size:1.1em;color:#666666;font-family:verdana\">5.1 FUNCIONES</div>\n"
   ]
  },
  {
   "cell_type": "markdown",
   "metadata": {},
   "source": [
    "<div style=\"text-align:justify;font-size:1.1em;color:#2F2B29;font-family:verdana\"> Anteriormente manejamos funciones incluidas en Python, tales como \"print\" o \"input\". Sin embargo, es posible crear nuestras propias funciones. </div>"
   ]
  },
  {
   "cell_type": "markdown",
   "metadata": {},
   "source": [
    "<div style=\"text-align:justify;font-size:1.1em;color:#2F2B29;font-family:verdana\"> Una función se crea escribiendo la palabra \"def\" seguida de un nombre de nuestra elección (como si nombraramos una variable) y un paréntesis. Esta línea debe terminar con dos puntos (:). El código que se ejecutará cuando la función sea invocada debe ir debajo (se debe saltar al renglón siguiente) y estar indentado. Analicemos la estructura con un ejemplo:</div>"
   ]
  },
  {
   "cell_type": "markdown",
   "metadata": {},
   "source": [
    "![imagen](materials/fn0.png)"
   ]
  },
  {
   "cell_type": "markdown",
   "metadata": {},
   "source": [
    "<div style=\"text-align:justify;font-size:1.1em;color:#2F2B29;font-family:verdana\"> La función del ejemplo sirve para imprimir la frase \"Hello, World\" cada vez que es invocada. Una función debe primero definirse. Esto no tendrá ningún resultado aparente, pero a partir de la ejecución, estará disponible en memoria para que nosotros la invoquemos.</div>"
   ]
  },
  {
   "cell_type": "markdown",
   "metadata": {},
   "source": [
    "<div style=\"text-align:justify;font-size:1.1em;color:#2F2B29;font-family:verdana\"> Ejecuta la siguiente celda para guardar en memoria la función \"printHello\".</div>"
   ]
  },
  {
   "cell_type": "code",
   "execution_count": null,
   "metadata": {},
   "outputs": [],
   "source": [
    "def printHello():\n",
    "    print(\"Hello, World\")    "
   ]
  },
  {
   "cell_type": "markdown",
   "metadata": {},
   "source": [
    "<div style=\"text-align:justify;font-size:1.1em;color:#2F2B29;font-family:verdana\"> ¿Qué sucedió? Como se mencionó anteriormente, ejecutar la definición de una función no tiene ningún efecto aparente, pero a partir de ahora podemos usarla.</div>"
   ]
  },
  {
   "cell_type": "markdown",
   "metadata": {},
   "source": [
    "# Llamar a una función"
   ]
  },
  {
   "cell_type": "markdown",
   "metadata": {},
   "source": [
    "<div style=\"text-align:justify;font-size:1.1em;color:#2F2B29;font-family:verdana\"> Para llamar a una función y utilizar su código simplemente tenemos que hacer lo que hemos venido haciendo a este momento: escribimos su nombre, seguido de paréntesis, y agregamos cualquier argumento o argumentos necesarios dentro del paréntesis. La función \"printHello\" no requiere ningún argumento, así que dejaremos los paréntesis vacíos. Ejecuta la siguiente celda y ve que sucede:</div>"
   ]
  },
  {
   "cell_type": "code",
   "execution_count": null,
   "metadata": {},
   "outputs": [],
   "source": [
    "printHello()\n"
   ]
  },
  {
   "cell_type": "markdown",
   "metadata": {},
   "source": [
    "<div style=\"text-align:justify;font-size:1.1em;color:#2F2B29;font-family:verdana\"> Como puedes ver, no es necesario definir la función cada vez que utilizamos el código. Las funciones nos ahorran tiempo y espacio, además de ofrecernos claridad al crear código. Más adelante veremos como incluso podemos utilizar funciones definidas en otros archivos.</div>"
   ]
  },
  {
   "cell_type": "markdown",
   "metadata": {},
   "source": [
    "<div style=\"text-align:justify;font-size:1.1em;color:#2F2B29;font-family:verdana\"> Veamos otro ejemplo. Digamos que queremos una función que al llamarla nos imprima los números del 1 al 5:</div>"
   ]
  },
  {
   "cell_type": "code",
   "execution_count": null,
   "metadata": {},
   "outputs": [],
   "source": [
    "def printFive():\n",
    "    for x in range(1,6):\n",
    "        print(x)\n",
    "printFive()"
   ]
  },
  {
   "cell_type": "markdown",
   "metadata": {},
   "source": [
    "![imagen](materials/pencil2.png)"
   ]
  },
  {
   "cell_type": "markdown",
   "metadata": {},
   "source": [
    "#### <div style=\"text-align:CENTER;font-size:1.3em;color:red;font-family:verdana\"> EJERCICIO 5.1-1 [1 minuto]</div>\n",
    "<div style=\"text-align:justify;font-size:1.2em;color:red;font-family:verdana\"> Define una función que imprima los números del 1 al 20. Puedes utilizar listas, ciclos \"for\" y la función \"range\" si lo deseas. Dale un nombre válido de tu elección. Mándala llamar. </div>"
   ]
  },
  {
   "cell_type": "code",
   "execution_count": null,
   "metadata": {},
   "outputs": [],
   "source": [
    "# Escribe tu código aquí\n",
    "\n"
   ]
  },
  {
   "cell_type": "markdown",
   "metadata": {},
   "source": [
    "\n"
   ]
  },
  {
   "cell_type": "markdown",
   "metadata": {},
   "source": [
    "\n"
   ]
  },
  {
   "cell_type": "markdown",
   "metadata": {},
   "source": [
    "\n"
   ]
  },
  {
   "cell_type": "markdown",
   "metadata": {},
   "source": [
    "# Argumentos"
   ]
  },
  {
   "cell_type": "markdown",
   "metadata": {},
   "source": [
    "<div style=\"text-align:justify;font-size:1.1em;color:#2F2B29;font-family:verdana\"> Los argumentos son información que será manipulada y procesada por la función. Esta información la ingresamos al momento de mandar a llamar a la función, sin embargo, al definir la función debemos especificar que esta información será recibida. </div>"
   ]
  },
  {
   "cell_type": "markdown",
   "metadata": {},
   "source": [
    "<div style=\"text-align:justify;font-size:1.1em;color:#2F2B29;font-family:verdana\"> Veamos un ejemplo: </div>"
   ]
  },
  {
   "cell_type": "code",
   "execution_count": null,
   "metadata": {},
   "outputs": [],
   "source": [
    "def double(x):\n",
    "    print(2*x)\n"
   ]
  },
  {
   "cell_type": "markdown",
   "metadata": {},
   "source": [
    "<div style=\"text-align:justify;font-size:1.1em;color:#2F2B29;font-family:verdana\"> En la celda anterior declaramos una función que únicamente imprime el doble del valor proporcionado. La \"x\" entre paréntesis indica que la función recibirá un valor (deberá ser numérico) como argumento. Este valor \"x\" es  multiplicado por 2 y luego impreso. </div>"
   ]
  },
  {
   "cell_type": "markdown",
   "metadata": {},
   "source": [
    "<div style=\"text-align:justify;font-size:1.1em;color:#2F2B29;font-family:verdana\"> ¿Cómo usamos esta función? Al momento de llamarla, debemos proporcionar un valor numérico dentro de los paréntesis. Por ejemplo: </div>"
   ]
  },
  {
   "cell_type": "code",
   "execution_count": null,
   "metadata": {},
   "outputs": [],
   "source": [
    "double(2000)\n",
    "double(-15)\n",
    "double(3.7)"
   ]
  },
  {
   "cell_type": "markdown",
   "metadata": {},
   "source": [
    "# Scope"
   ]
  },
  {
   "cell_type": "markdown",
   "metadata": {},
   "source": [
    "<div style=\"text-align:justify;font-size:1.1em;color:#2F2B29;font-family:verdana\"> Analicemos el argumento en la siguiente definición de una función. </div>"
   ]
  },
  {
   "cell_type": "code",
   "execution_count": null,
   "metadata": {},
   "outputs": [],
   "source": [
    "def double(x):\n",
    "    print(2*x)\n"
   ]
  },
  {
   "cell_type": "markdown",
   "metadata": {},
   "source": [
    "<div style=\"text-align:justify;font-size:1.1em;color:#2F2B29;font-family:verdana\"> Es importante entender que la variable \"x\" en la declaración de la función puede verse como una variable temporal separada del resto del código. Esto significa que sólamente existe y puede ser manipulada dentro de la función, y no puede utilizarse posteriormente a menos de que se le vuelva a llamar. Recordemos que, aunque en este caso la variable tiene el nombre de \"x\", realmente podemos nombrarla como deseemos, siempre y cuando sigamos las reglas del nombramiento de variables. </div>"
   ]
  },
  {
   "cell_type": "markdown",
   "metadata": {},
   "source": [
    "<div style=\"text-align:justify;font-size:1.1em;color:#2F2B29;font-family:verdana\"> Por ejemplo, si intentamos ejecutar el siguiente código, obtendremos un error: </div>"
   ]
  },
  {
   "cell_type": "code",
   "execution_count": null,
   "metadata": {},
   "outputs": [],
   "source": [
    "def double(x):\n",
    "    print(2*x)\n",
    "double(5)\n",
    "\n",
    "print(x)"
   ]
  },
  {
   "cell_type": "markdown",
   "metadata": {},
   "source": [
    "<div style=\"text-align:justify;font-size:1.1em;color:#2F2B29;font-family:verdana\"> El aislamiento de esta variable es tal, que podemos utilizar otra variable con el mismo nombre en el resto del código sin que esto cause conflictos: </div>"
   ]
  },
  {
   "cell_type": "code",
   "execution_count": null,
   "metadata": {},
   "outputs": [],
   "source": [
    "x = \"cien\"\n",
    "def double(x):\n",
    "    print(2*x)\n",
    "double(5)\n",
    "\n",
    "print(x)"
   ]
  },
  {
   "cell_type": "markdown",
   "metadata": {},
   "source": [
    "<div style=\"text-align:justify;font-size:1.1em;color:#2F2B29;font-family:verdana\"> En la celda anterior podemos ver como la variable \"x\" dentro de la función (local) y la variable \"x\" en el resto del código (global) toman valores distintos y que esto no afecta la funcionalidad del código. </div>"
   ]
  },
  {
   "cell_type": "markdown",
   "metadata": {},
   "source": [
    "<div style=\"text-align:justify;font-size:1.1em;color:#2F2B29;font-family:verdana\"> A esta característica que dicta si una variable es local o global le podemos llamar \"Scope\". </div>"
   ]
  },
  {
   "cell_type": "markdown",
   "metadata": {},
   "source": [
    "<div style=\"text-align:justify;font-size:1.1em;color:#2F2B29;font-family:verdana\"> ¿Qué sucedería si mencionamos una variable global dentro de una función sin que esta exista localmente?</div>"
   ]
  },
  {
   "cell_type": "code",
   "execution_count": null,
   "metadata": {},
   "outputs": [],
   "source": [
    "x = \"Hola, Mundo\"\n",
    "def printX():\n",
    "    print(x)\n",
    "printX()"
   ]
  },
  {
   "cell_type": "markdown",
   "metadata": {},
   "source": [
    "<div style=\"text-align:justify;font-size:1.1em;color:#2F2B29;font-family:verdana\"> En este caso, como la variable no tiene una contraparte local, la función utilizará el valor de la variable global.</div>"
   ]
  },
  {
   "cell_type": "markdown",
   "metadata": {},
   "source": [
    "![imagen](materials/pencil2.png)"
   ]
  },
  {
   "cell_type": "markdown",
   "metadata": {},
   "source": [
    "#### <div style=\"text-align:CENTER;font-size:1.3em;color:red;font-family:verdana\"> EJERCICIO 5.1-2 [2 minutos]</div>\n",
    "<div style=\"text-align:justify;font-size:1.2em;color:red;font-family:verdana\"> Define una función que reciba 1 valor como argumento y lo imprima 5 veces.</div>"
   ]
  },
  {
   "cell_type": "code",
   "execution_count": null,
   "metadata": {},
   "outputs": [],
   "source": [
    "# Escribe tu código aquí\n",
    "\n"
   ]
  },
  {
   "cell_type": "markdown",
   "metadata": {},
   "source": [
    "\n"
   ]
  },
  {
   "cell_type": "markdown",
   "metadata": {},
   "source": [
    "\n"
   ]
  },
  {
   "cell_type": "markdown",
   "metadata": {},
   "source": [
    "\n"
   ]
  },
  {
   "cell_type": "markdown",
   "metadata": {},
   "source": [
    "# Múltiples Argumentos"
   ]
  },
  {
   "cell_type": "markdown",
   "metadata": {},
   "source": [
    "<div style=\"text-align:justify;font-size:1.1em;color:#2F2B29;font-family:verdana\"> Podemos ingresar cualquier número de argumentos en una función. Al momento de definirla, debemos especificar todos los argumentos de entrada con nombres distintos.</div>"
   ]
  },
  {
   "cell_type": "markdown",
   "metadata": {},
   "source": [
    "<div style=\"text-align:justify;font-size:1.1em;color:#2F2B29;font-family:verdana\"> Por ejemplo:</div>"
   ]
  },
  {
   "cell_type": "code",
   "execution_count": null,
   "metadata": {},
   "outputs": [],
   "source": [
    "def suma(x,y):\n",
    "    print(x+y)\n",
    "    \n",
    "suma(4,6)"
   ]
  },
  {
   "cell_type": "markdown",
   "metadata": {},
   "source": [
    "<div style=\"text-align:justify;font-size:1.1em;color:#2F2B29;font-family:verdana\"> La función anterior toma dos valores (\"x\" y \"y\" dentro de la función) e imprime su suma. Podemos hacer lo mismo con cualquier número de argumentos:</div>"
   ]
  },
  {
   "cell_type": "code",
   "execution_count": null,
   "metadata": {},
   "outputs": [],
   "source": [
    "def multiSuma(w,x,y,z):\n",
    "    print(w+x+y+z)\n",
    "    \n",
    "multiSuma(4,6,10,3)"
   ]
  },
  {
   "cell_type": "markdown",
   "metadata": {},
   "source": [
    "![imagen](materials/pencil2.png)"
   ]
  },
  {
   "cell_type": "markdown",
   "metadata": {},
   "source": [
    "#### <div style=\"text-align:CENTER;font-size:1.3em;color:red;font-family:verdana\"> EJERCICIO 5.1-3 [5 minutos]</div>\n",
    "<div style=\"text-align:justify;font-size:1.2em;color:red;font-family:verdana\"> Crea una función para cada una de las 4 operaciones aritméticas básicas (suma, resta, multiplicación y división). Deben poder recibir 2 argumentos e imprimir el resultado. Mándalas llamar con valores de tu elección.</div>"
   ]
  },
  {
   "cell_type": "code",
   "execution_count": null,
   "metadata": {},
   "outputs": [],
   "source": [
    "# Escribe tu código aquí\n"
   ]
  },
  {
   "cell_type": "markdown",
   "metadata": {},
   "source": [
    "\n"
   ]
  },
  {
   "cell_type": "markdown",
   "metadata": {},
   "source": [
    "\n"
   ]
  },
  {
   "cell_type": "markdown",
   "metadata": {},
   "source": [
    "\n"
   ]
  },
  {
   "cell_type": "markdown",
   "metadata": {},
   "source": [
    "# Return"
   ]
  },
  {
   "cell_type": "markdown",
   "metadata": {},
   "source": [
    "<div style=\"text-align:justify;font-size:1.1em;color:#2F2B29;font-family:verdana\"> Hasta el momento, todas nuestras funciones han empleado \"print\" para mostrar resultados de sus operaciones. Una función por si misma no retorna ningún resultado, a menos de que nosotros lo especifiquemos.</div>"
   ]
  },
  {
   "cell_type": "markdown",
   "metadata": {},
   "source": [
    "<div style=\"text-align:justify;font-size:1.1em;color:#2F2B29;font-family:verdana\"> Para retornar un valor, podemos usar el comando \"return\" dentro de la función. Por ejemplo:</div>"
   ]
  },
  {
   "cell_type": "code",
   "execution_count": null,
   "metadata": {},
   "outputs": [],
   "source": [
    "def suma(a,b):\n",
    "    c = a+b\n",
    "    return c\n",
    "suma(3,2)\n",
    "print(suma(3,2))"
   ]
  },
  {
   "cell_type": "markdown",
   "metadata": {},
   "source": [
    "<div style=\"text-align:justify;font-size:1.1em;color:#2F2B29;font-family:verdana\"> En el ejemplo anterior, definimos una función que suma un valor \"a\" y uno \"b\", guardando el valor en una tercera variable \"c\". Recordemos que esta variable \"c\", al ser declarada dentro de la función, es local y no afecta al código externo. Al final de la definición utilizamos el comando \"return\", seguido de la variable \"c\". Esto significa que la función, al ser llamada, retornará el valor que tenga \"c\". Veamos como funciona:</div>"
   ]
  },
  {
   "cell_type": "code",
   "execution_count": null,
   "metadata": {},
   "outputs": [],
   "source": [
    "def suma(a,b):\n",
    "    c = a+b\n",
    "    return c\n",
    "\n",
    "suma(3,4)"
   ]
  },
  {
   "cell_type": "markdown",
   "metadata": {},
   "source": [
    "<div style=\"text-align:justify;font-size:1.1em;color:#2F2B29;font-family:verdana\"> De esta manera podemos usar la función \"suma\" como una variable más en diversas operaciones y métodos:</div>"
   ]
  },
  {
   "cell_type": "code",
   "execution_count": null,
   "metadata": {},
   "outputs": [],
   "source": [
    "def suma(a,b):\n",
    "    c = a+b\n",
    "    return c\n",
    "\n",
    "\n",
    "d = 3 + suma(1,4)\n",
    "print(d)"
   ]
  },
  {
   "cell_type": "markdown",
   "metadata": {},
   "source": [
    "<div style=\"text-align:justify;font-size:1.1em;color:#2F2B29;font-family:verdana\"> ¿Qué pasaría si no utilizamos el comando \"return\"? Usando el ejemplo anterior:</div>"
   ]
  },
  {
   "cell_type": "code",
   "execution_count": null,
   "metadata": {},
   "outputs": [],
   "source": [
    "def suma(a,b):\n",
    "    c = a+b\n",
    "    \n",
    "d = 3 + suma(1,4)\n",
    "print(d)"
   ]
  },
  {
   "cell_type": "markdown",
   "metadata": {},
   "source": [
    "<div style=\"text-align:justify;font-size:1.1em;color:#2F2B29;font-family:verdana\"> Si ejecutamos la celda anterior obtendremos un error, puesto que la función con argumentos \"suma(1,4)\" realiza una operación pero no tiene un valor en sí.</div>"
   ]
  },
  {
   "cell_type": "markdown",
   "metadata": {},
   "source": [
    "![imagen](materials/pencil2.png)"
   ]
  },
  {
   "cell_type": "markdown",
   "metadata": {},
   "source": [
    "#### <div style=\"text-align:CENTER;font-size:1.3em;color:red;font-family:verdana\"> EJERCICIO 5.1-4 [5 minutos]</div>\n",
    "<div style=\"text-align:justify;font-size:1.2em;color:red;font-family:verdana\">En este ejercicio crearemos una función que calcule el área de un triángulo. Como sabemos, el área se calcula multiplicando la base por la altura y dividiendo el resultado entre dos. Tu función debe recibir 2 argumentos (base y altura) y usar el comando \"return\" para regresar el valor resultante. Prueba la función con valores de tu elección. </div>"
   ]
  },
  {
   "cell_type": "code",
   "execution_count": null,
   "metadata": {},
   "outputs": [],
   "source": [
    "# Escribe tu código aquí\n"
   ]
  },
  {
   "cell_type": "markdown",
   "metadata": {},
   "source": [
    "\n"
   ]
  },
  {
   "cell_type": "markdown",
   "metadata": {},
   "source": [
    "\n"
   ]
  },
  {
   "cell_type": "markdown",
   "metadata": {},
   "source": [
    "\n"
   ]
  },
  {
   "cell_type": "markdown",
   "metadata": {},
   "source": [
    "# Funciones + código condicional"
   ]
  },
  {
   "cell_type": "markdown",
   "metadata": {},
   "source": [
    "<div style=\"text-align:justify;font-size:1.1em;color:#2F2B29;font-family:verdana\"> Veamos un pequeño ejemplo de código condicional dentro de una función.</div>"
   ]
  },
  {
   "cell_type": "code",
   "execution_count": null,
   "metadata": {},
   "outputs": [],
   "source": [
    "def comparar(a,b):\n",
    "    if (a==b):\n",
    "        print(a,\"y\",b,\"son iguales\")\n",
    "    else:\n",
    "        print(a,\"y\",b,\"son diferentes\")\n",
    "\n",
    "comparar(3,4)"
   ]
  },
  {
   "cell_type": "markdown",
   "metadata": {},
   "source": [
    "![imagen](materials/pencil2.png)"
   ]
  },
  {
   "cell_type": "markdown",
   "metadata": {},
   "source": [
    "#### <div style=\"text-align:CENTER;font-size:1.3em;color:red;font-family:verdana\"> EJERCICIO 5.1-5 [5 minutos]</div>\n",
    "<div style=\"text-align:justify;font-size:1.2em;color:red;font-family:verdana\"> Crea una función que compare 2 valores numéricos de entrada e imprima cual es mayor. En caso de que sean iguales, la función imprimirá ese hecho. Esto podemos hacerlo utilizando las funciones \"if\", \"else\" y \"elif\" dentro de una función:</div>"
   ]
  },
  {
   "cell_type": "code",
   "execution_count": null,
   "metadata": {},
   "outputs": [],
   "source": [
    "# Escribe tu código aquí\n",
    "\n"
   ]
  },
  {
   "cell_type": "markdown",
   "metadata": {},
   "source": [
    "\n"
   ]
  },
  {
   "cell_type": "markdown",
   "metadata": {},
   "source": [
    "\n"
   ]
  },
  {
   "cell_type": "markdown",
   "metadata": {},
   "source": [
    "\n"
   ]
  },
  {
   "cell_type": "markdown",
   "metadata": {},
   "source": [
    "\n"
   ]
  },
  {
   "cell_type": "markdown",
   "metadata": {},
   "source": [
    "\n"
   ]
  },
  {
   "cell_type": "markdown",
   "metadata": {},
   "source": [
    "# Funciones + ciclos"
   ]
  },
  {
   "cell_type": "markdown",
   "metadata": {},
   "source": [
    "<div style=\"text-align:justify;font-size:1.1em;color:#2F2B29;font-family:verdana\"> Veamos un pequeño ejemplo de código ciclos dentro de una función.</div>"
   ]
  },
  {
   "cell_type": "code",
   "execution_count": null,
   "metadata": {},
   "outputs": [],
   "source": [
    "def multiPrint(valor,repeticiones):\n",
    "    for x in range(repeticiones):\n",
    "        print(valor)\n",
    "\n",
    "multiPrint(\"Hola, Mundo\",3)"
   ]
  },
  {
   "cell_type": "markdown",
   "metadata": {},
   "source": [
    "<div style=\"text-align:justify;font-size:1.1em;color:#2F2B29;font-family:verdana\"> La función anterior recibe como argumentos un elemento a imprimir y la cantidad de veces que será impreso.</div>"
   ]
  },
  {
   "cell_type": "markdown",
   "metadata": {},
   "source": [
    "![imagen](materials/pencil2.png)"
   ]
  },
  {
   "cell_type": "markdown",
   "metadata": {},
   "source": [
    "#### <div style=\"text-align:CENTER;font-size:1.3em;color:red;font-family:verdana\"> EJERCICIO 5.1-6 [5 minutos]</div>\n",
    "<div style=\"text-align:justify;font-size:1.2em;color:red;font-family:verdana\"> Retomemos un ejercicio del módulo anterior donde intentamos hacer un chatbot básico. Convierte ese código en una función que reciba un argumento \"nombre\". Al momento de saludarte, el \"chatbot\" debe decir \"Hola \" + el nombre que establezcas como argumento. Ejemplo:</div>"
   ]
  },
  {
   "cell_type": "markdown",
   "metadata": {},
   "source": [
    "\n",
    "<div style=\"text-align:justify;font-size:1.2em;color:red;font-family:verdana\"> chatbot(\"Juan\")</div>"
   ]
  },
  {
   "cell_type": "markdown",
   "metadata": {},
   "source": [
    "\n",
    "<div style=\"text-align:justify;font-size:1.2em;color:red;font-family:verdana\"> Bot: \"hola, Juan!\"</div>"
   ]
  },
  {
   "cell_type": "code",
   "execution_count": null,
   "metadata": {},
   "outputs": [],
   "source": [
    "# Modifica este código\n"
   ]
  },
  {
   "cell_type": "markdown",
   "metadata": {},
   "source": [
    "# Funciones y listas"
   ]
  },
  {
   "cell_type": "markdown",
   "metadata": {},
   "source": [
    "<div style=\"text-align:justify;font-size:1.1em;color:#2F2B29;font-family:verdana\"> Los argumentos de una función pueden ser listas, lo que nos permite pasar muchos valores de una manera más sencilla y ordenada.</div>"
   ]
  },
  {
   "cell_type": "markdown",
   "metadata": {},
   "source": [
    "<div style=\"text-align:justify;font-size:1.1em;color:#2F2B29;font-family:verdana\"> Digamos que tenemos una lista con valores enteros. Queremos hacer una función que multiplique cada uno de los valores por 2 y los imprima:</div>"
   ]
  },
  {
   "cell_type": "code",
   "execution_count": null,
   "metadata": {},
   "outputs": [],
   "source": [
    "list1 = [2,5,75,23,4,66,-4]\n",
    "\n",
    "def doubleList(lista):\n",
    "    for x in lista:\n",
    "        print(2*x)\n",
    "\n",
    "doubleList(list1)"
   ]
  },
  {
   "cell_type": "markdown",
   "metadata": {},
   "source": [
    "<div style=\"text-align:justify;font-size:1.1em;color:#2F2B29;font-family:verdana\"> Ahora, nuestra función ppuede imprimir los valores pero, ¿es posible que nos retorne una lista con el doble de todos los valores proporcionados?</div>"
   ]
  },
  {
   "cell_type": "markdown",
   "metadata": {},
   "source": [
    "<div style=\"text-align:justify;font-size:1.1em;color:#2F2B29;font-family:verdana\"> Una función puede retornar (usando \"return\") únicamente 1 objeto. Sin embargo, es posible retornar listas o diccionarios, por lo que, técnicamente, sí es posible retornar varios valores.</div>"
   ]
  },
  {
   "cell_type": "markdown",
   "metadata": {},
   "source": [
    "<div style=\"text-align:justify;font-size:1.1em;color:#2F2B29;font-family:verdana\"> Implementemos el método \"return\" en el código anterior:</div>"
   ]
  },
  {
   "cell_type": "code",
   "execution_count": null,
   "metadata": {},
   "outputs": [],
   "source": [
    "list1 = [2,5,75,23,4,66,-4,5.76,54,90]\n",
    "\n",
    "def doubleList(lista):\n",
    "    list2 = []\n",
    "    for x in lista:\n",
    "        list2.append(2*x) \n",
    "    return list2\n",
    "x = doubleList(list1)\n",
    "print(x)"
   ]
  },
  {
   "cell_type": "markdown",
   "metadata": {},
   "source": [
    "<div style=\"text-align:justify;font-size:1.1em;color:#2F2B29;font-family:verdana\"> Utilizando el return podemos obtener una nueva lista que podremos manipular posteriormente.</div>"
   ]
  },
  {
   "cell_type": "markdown",
   "metadata": {},
   "source": [
    "![imagen](materials/pencil2.png)"
   ]
  },
  {
   "cell_type": "markdown",
   "metadata": {},
   "source": [
    "#### <div style=\"text-align:CENTER;font-size:1.3em;color:red;font-family:verdana\"> EJERCICIO 5.1-7 [10 minutos]</div>\n",
    "<div style=\"text-align:justify;font-size:1.2em;color:red;font-family:verdana\"> Crea una función que reciba como argumentos 2 listas. Esta función debe sumar los elementos de las listas con los mismos índices y retornar como valor una nueva lista con estos valores. Pruébala con las listas ejemplo proporcionadas.</div>"
   ]
  },
  {
   "cell_type": "code",
   "execution_count": null,
   "metadata": {},
   "outputs": [],
   "source": [
    "# Escribe tu código aquí\n"
   ]
  },
  {
   "cell_type": "markdown",
   "metadata": {},
   "source": [
    "\n"
   ]
  },
  {
   "cell_type": "markdown",
   "metadata": {},
   "source": [
    "\n"
   ]
  },
  {
   "cell_type": "markdown",
   "metadata": {},
   "source": [
    "\n"
   ]
  },
  {
   "cell_type": "markdown",
   "metadata": {},
   "source": [
    "# Funciones y diccionarios"
   ]
  },
  {
   "cell_type": "markdown",
   "metadata": {},
   "source": [
    "<div style=\"text-align:justify;font-size:1.1em;color:#2F2B29;font-family:verdana\"> Una función puede recibir como argumento un diccionario. También es posible retornar uno usando el método \"return\".</div>"
   ]
  },
  {
   "cell_type": "markdown",
   "metadata": {},
   "source": [
    "<div style=\"text-align:justify;font-size:1.1em;color:#2F2B29;font-family:verdana\"> Por ejemplo, digamos que tenemos dos diccionarios con información relevante para RH:</div>"
   ]
  },
  {
   "cell_type": "code",
   "execution_count": null,
   "metadata": {},
   "outputs": [],
   "source": [
    "dict1 = {\"nombre\":\"Juan\",\"apellidos\":\"Garza Saada\",\"tiempo_empresa\":\"10 años\",\"puesto\":\"programador\"}\n",
    "dict2 = {\"nombre\":\"Maria\",\"apellidos\":\"Martinez Lopez\",\"tiempo_empresa\":\"2 años\",\"puesto\":\"CEO\"}"
   ]
  },
  {
   "cell_type": "markdown",
   "metadata": {},
   "source": [
    "<div style=\"text-align:justify;font-size:1.1em;color:#2F2B29;font-family:verdana\"> Si deseamos crear una función que nos imprima la información de puesto y tiempo en la empresa, podemos hacer lo siguiente:</div>"
   ]
  },
  {
   "cell_type": "code",
   "execution_count": null,
   "metadata": {},
   "outputs": [],
   "source": [
    "dict1 = {\"nombre\":\"Juan\",\"apellidos\":\"Garza Saada\",\"tiempo_empresa\":\"10 años\",\"puesto\":\"programador\", \"departamento\":\"IT\"}\n",
    "dict2 = {\"nombre\":\"Maria\",\"apellidos\":\"Martinez Lopez\",\"tiempo_empresa\":\"2 años\",\"puesto\":\"CEO\",\"departamento\":\"direccion general\"}\n",
    "\n",
    "def printRH(dictionary):\n",
    "    print(\"Puesto:\",dictionary[\"puesto\"])\n",
    "    print(\"Tiempo en la empresa:\",dictionary[\"tiempo_empresa\"])\n",
    "\n",
    "printRH(dict2)"
   ]
  },
  {
   "cell_type": "markdown",
   "metadata": {},
   "source": [
    "![imagen](materials/pencil2.png)"
   ]
  },
  {
   "cell_type": "markdown",
   "metadata": {},
   "source": [
    "#### <div style=\"text-align:CENTER;font-size:1.3em;color:red;font-family:verdana\"> EJERCICIO 5.1-8 [10 minutos]</div>\n",
    "<div style=\"text-align:justify;font-size:1.2em;color:red;font-family:verdana\"> Crea una función que reciba como argumento un diccionario de los antes declarados. Esta función debe crear un nuevo diccionario con la información de \"nombre\", \"apellidos\", \"puesto\" y \"departamento\".</div>"
   ]
  },
  {
   "cell_type": "markdown",
   "metadata": {},
   "source": [
    "\n",
    "<div style=\"text-align:justify;font-size:1.2em;color:red;font-family:verdana\"> Recordemos como se agregan elementos a un diccionario:</div>"
   ]
  },
  {
   "cell_type": "code",
   "execution_count": null,
   "metadata": {},
   "outputs": [],
   "source": [
    "dictA = {}\n",
    "dictA[\"a\"] = 1\n",
    "dictA[\"b\"] = 2\n",
    "print(dictA)"
   ]
  },
  {
   "cell_type": "code",
   "execution_count": null,
   "metadata": {},
   "outputs": [],
   "source": [
    "# Escribe tu código aquí"
   ]
  }
 ],
 "metadata": {
  "kernelspec": {
   "display_name": "Python 3",
   "language": "python",
   "name": "python3"
  },
  "language_info": {
   "codemirror_mode": {
    "name": "ipython",
    "version": 3
   },
   "file_extension": ".py",
   "mimetype": "text/x-python",
   "name": "python",
   "nbconvert_exporter": "python",
   "pygments_lexer": "ipython3",
   "version": "3.6.5"
  }
 },
 "nbformat": 4,
 "nbformat_minor": 2
}
