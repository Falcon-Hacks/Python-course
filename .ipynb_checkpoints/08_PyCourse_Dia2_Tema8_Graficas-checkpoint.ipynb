{
 "cells": [
  {
   "cell_type": "markdown",
   "metadata": {},
   "source": [
    "### <font color='black'><div style=\"text-align: center\">2018</div></font>\n",
    "---\n",
    "![image](materials/python_logo.PNG)\n",
    "# <div style=\"text-align:center;font-size:1.8em;color:red;font-family:verdana\">CURSO BÁSICO DE PYTHON</div>\n",
    "## <div style=\"text-align:center;font-size:1.2em;color:red;font-family:verdana\">DÍA 2</div>\n",
    "\n",
    "<div font color='gray'><div style=\"text-align: center\">AXTEL</div>"
   ]
  },
  {
   "cell_type": "markdown",
   "metadata": {},
   "source": [
    "\n",
    "# <div style=\"text-align:center;font-size:1.1em;color:red;font-family:verdana\">8. GRÁFICAS</div>"
   ]
  },
  {
   "cell_type": "markdown",
   "metadata": {},
   "source": [
    "<div style=\"text-align:justify;font-size:1.1em;color:#2F2B29;font-family:verdana\"> Es conveniente mostrar los datos numericos gráficamente para su mejor comprensión y análisis. Python cuenta con una librería para graficar llamada \"matplotlib\". En este caso utilizaremos el módulo \"pyplot\" y lo importaremos con el nombre de \"plt\" </div>"
   ]
  },
  {
   "cell_type": "code",
   "execution_count": null,
   "metadata": {},
   "outputs": [],
   "source": [
    "import matplotlib.pyplot as plt"
   ]
  },
  {
   "cell_type": "markdown",
   "metadata": {},
   "source": [
    "<div style=\"text-align:justify;font-size:1.1em;color:#2F2B29;font-family:verdana\"> Para graficar utilizaremos la función \"plot()\". Esta función puede recibir varios parámetros, pero como mínimo debemos ingresar una lista de valores para el eje x y otra para el eje y. Utilizaremos después la función \"show() para mostrar nuestra gráfica. Por ejemplo:  </div>"
   ]
  },
  {
   "cell_type": "code",
   "execution_count": null,
   "metadata": {},
   "outputs": [],
   "source": [
    "plt.plot([1,2,3,4], [10,5,12,7])\n",
    "# El primer parámetro corresponde al eje x, mientras que el segundo al eje y.\n",
    "plt.show()"
   ]
  },
  {
   "cell_type": "markdown",
   "metadata": {},
   "source": [
    "<div style=\"text-align:justify;font-size:1.1em;color:#2F2B29;font-family:verdana\"> La función \"plot\" creará la gráfica, pero debemos utilizar la función \"show\" para poder visualizarla. </div>"
   ]
  },
  {
   "cell_type": "markdown",
   "metadata": {},
   "source": [
    "#### <div style=\"text-align:CENTER;font-size:1.3em;color:red;font-family:verdana\"> EJERCICIO 8.1-1 [2 minutos]</div>\n",
    "<div style=\"text-align:justify;font-size:1.2em;color:red;font-family:verdana\"> Grafica las siguientes listas de valores. La lista \"list1\" corresponderá al eje \"x\" y la lista \"list2\" corresponderá al eje \"y\".</div>"
   ]
  },
  {
   "cell_type": "code",
   "execution_count": null,
   "metadata": {},
   "outputs": [],
   "source": [
    "# Escribe tu código aquí\n",
    "\n",
    "list1 = [11,33,44,20,45,23,66,13,1,3,8,24,60,90]\n",
    "list2 = [10,20,30,40,50,60,70,80,90,100,110,120,130,140]\n",
    "\n",
    "# for x,y in zip(list2,list1):\n",
    "#    text = \"(\" + str(x) + ', ' + str(y) + \")\"\n",
    "#    plt.text(x,y, text,fontsize=15)"
   ]
  },
  {
   "cell_type": "markdown",
   "metadata": {},
   "source": [
    "<div style=\"text-align:justify;font-size:1.1em;color:#2F2B29;font-family:verdana\"> Para realizar gráficas más complejas, podemos utilizar la función \"figure\". </div>"
   ]
  },
  {
   "cell_type": "code",
   "execution_count": null,
   "metadata": {},
   "outputs": [],
   "source": [
    "plt.figure()\n"
   ]
  },
  {
   "cell_type": "markdown",
   "metadata": {},
   "source": [
    "<div style=\"text-align:justify;font-size:1.1em;color:#2F2B29;font-family:verdana\">Ahora, utilizamos la función \"plot\" para agregar los valores:</div>"
   ]
  },
  {
   "cell_type": "code",
   "execution_count": null,
   "metadata": {},
   "outputs": [],
   "source": [
    "plt.figure()\n",
    "plt.plot(list2, list1)\n",
    "plt.show()"
   ]
  },
  {
   "cell_type": "markdown",
   "metadata": {},
   "source": [
    "<div style=\"text-align:justify;font-size:1.1em;color:#2F2B29;font-family:verdana\">Podemos agregar parámetros para modificar el color.</div>"
   ]
  },
  {
   "cell_type": "markdown",
   "metadata": {},
   "source": [
    "<div style=\"text-align:justify;font-size:1.1em;color:#2F2B29;font-family:verdana\">Es posible también agregar un título con la función \"set_title\".</div>"
   ]
  },
  {
   "cell_type": "code",
   "execution_count": null,
   "metadata": {},
   "outputs": [],
   "source": [
    "plt.figure()\n",
    "plt.plot(list2, list1,color=\"red\")\n",
    "plt.title('Gráfica 1')\n",
    "plt.show()"
   ]
  },
  {
   "cell_type": "markdown",
   "metadata": {},
   "source": [
    "<div style=\"text-align:justify;font-size:1.1em;color:#2F2B29;font-family:verdana\">Podemos agregarle una descripción a cada uno de los ejes también:</div>"
   ]
  },
  {
   "cell_type": "code",
   "execution_count": null,
   "metadata": {},
   "outputs": [],
   "source": [
    "plt.figure()\n",
    "plt.plot(list2, list1,color=\"red\")\n",
    "plt.title('Gráfica 1')\n",
    "plt.ylabel('Valor A')\n",
    "plt.xlabel('Valor B')\n",
    "plt.show()"
   ]
  },
  {
   "cell_type": "markdown",
   "metadata": {},
   "source": [
    "#### <div style=\"text-align:CENTER;font-size:1.3em;color:red;font-family:verdana\"> EJERCICIO 8.1-2 [5 minutos]</div>\n",
    "<div style=\"text-align:justify;font-size:1.2em;color:red;font-family:verdana\"> Crea una nueva gráfica con nuevos valores para el eje \"y\" de tu elección. En el eje \"x\", utiliza los números del 1 al 12. El eje y debe tener el nombre de \"Ventas\" y el x de \"Meses\". Usa un color que no hayamos empleado hasta el momento. Agregale un nombre de \"Ventas Anuales\". Muestra la gráfica.</div>"
   ]
  },
  {
   "cell_type": "code",
   "execution_count": null,
   "metadata": {},
   "outputs": [],
   "source": [
    "# Escribe tu código aquí\n",
    "\n"
   ]
  },
  {
   "cell_type": "markdown",
   "metadata": {},
   "source": [
    "<div style=\"text-align:justify;font-size:1.1em;color:#2F2B29;font-family:verdana\">Agregar una segunda lista es muy sencillo. Simplemente usamos de nuevo el método plot especificando los parámetros necesarios.</div>"
   ]
  },
  {
   "cell_type": "code",
   "execution_count": null,
   "metadata": {},
   "outputs": [],
   "source": [
    "list1 = [11,33,44,20,45,23,66,13,1,3,8,24,60,90]\n",
    "list2 = [10,20,30,40,50,60,70,80,90,100,110,120,130,140]\n",
    "list3 = [32,55,88,23,12,67,23,66,67,69,40,12,10,11]\n",
    "\n",
    "plt.style.use(\"default\")\n",
    "# plt.style.use('grayscale')\n",
    "# plt.style.use('ggplot')\n",
    "# plt.style.use('seaborn')\n",
    "# plt.style.use('classic')\n",
    "# plt.style.use('bmh')\n",
    "# plt.style.use('tableau-colorblind10')\n",
    "\n",
    "fig = plt.figure()\n",
    "\n",
    "plt.figure()\n",
    "plt.plot(list2, list1,label = \"lista 1\")\n",
    "plt.plot(list2, list3,label = \"lista 2\")\n",
    "plt.title('Gráfica 1')\n",
    "plt.ylabel('Valor A')\n",
    "plt.xlabel('Valor B')\n",
    "plt.grid()            # si quieres agregar cuadricula utiliza el método grid\n",
    "plt.legend()\n",
    "plt.show()"
   ]
  },
  {
   "cell_type": "markdown",
   "metadata": {},
   "source": [
    "#### <div style=\"text-align:CENTER;font-size:1.3em;color:red;font-family:verdana\"> EJERCICIO 8.1-3 [8 minutos]</div>\n",
    "<div style=\"text-align:justify;font-size:1.2em;color:red;font-family:verdana\"> Crea una función que tenga 2 parámetros de entrada. Cada uno de estos debe ser una lista con 12 valores que representarán las ventas por cada mes. La función debe graficar ambos grupos de valores en una misma gráfica, ademas de agregar título, descripción de cada eje y labels que indiquen cual gráfica corresponde a qué lista. Pruébala con las listas de ejemplo proporcionadas y muestra la gráfica resultante.</div>"
   ]
  },
  {
   "cell_type": "code",
   "execution_count": null,
   "metadata": {},
   "outputs": [],
   "source": []
  },
  {
   "cell_type": "code",
   "execution_count": null,
   "metadata": {},
   "outputs": [],
   "source": [
    "# Escribe tu código aquí\n",
    "listA = [3,5,2,7,8,8,6,1,2,4,6,4]\n",
    "listB = [1,3,5,6,7,3,3,6,3,6,10,10]\n"
   ]
  },
  {
   "cell_type": "markdown",
   "metadata": {},
   "source": [
    "### Ejemplos de Gráficos con Matplotlib"
   ]
  },
  {
   "cell_type": "code",
   "execution_count": null,
   "metadata": {},
   "outputs": [],
   "source": [
    "import numpy as np\n",
    "import matplotlib.pyplot as plt\n",
    "from mpl_toolkits.mplot3d import Axes3D\n",
    "\n",
    "\n",
    "x_1d = np.linspace(-1.5,1.5,301)\n",
    "y_1d = np.linspace(-1.5,1.5,301)\n",
    "\n",
    "x_2d, y_2d = np.meshgrid(x_1d, y_1d)\n",
    "\n",
    "z_2d = 1/(x_2d**2 + y_2d**2 + 1) * np.cos(np.pi * x_2d) * np.cos(np.pi * y_2d)\n",
    "\n",
    "plt.figure()\n",
    "ax = plt.gca(projection='3d')\n",
    "ax.plot_surface(x_2d, y_2d, z_2d, cmap=plt.get_cmap(\"jet\"), edgecolor = \"k\")\n",
    "plt.show()"
   ]
  },
  {
   "cell_type": "code",
   "execution_count": null,
   "metadata": {},
   "outputs": [],
   "source": [
    "import matplotlib\n",
    "import numpy as np\n",
    "import matplotlib.pyplot as plt\n",
    "\n",
    "np.random.seed(19680801)\n",
    "\n",
    "# example data\n",
    "mu = 100  # mean of distribution\n",
    "sigma = 15  # standard deviation of distribution\n",
    "x = mu + sigma * np.random.randn(437)\n",
    "\n",
    "num_bins = 50\n",
    "\n",
    "fig, ax = plt.subplots()\n",
    "\n",
    "# the histogram of the data\n",
    "n, bins, patches = ax.hist(x, num_bins, density=1)\n",
    "\n",
    "# add a 'best fit' line\n",
    "y = ((1 / (np.sqrt(2 * np.pi) * sigma)) *\n",
    "     np.exp(-0.5 * (1 / sigma * (bins - mu))**2))\n",
    "ax.plot(bins, y, '--')\n",
    "ax.set_xlabel('Smarts')\n",
    "ax.set_ylabel('Probability density')\n",
    "ax.set_title(r'Histogram of IQ: $\\mu=100$, $\\sigma=15$')\n",
    "\n",
    "# Tweak spacing to prevent clipping of ylabel\n",
    "fig.tight_layout()\n",
    "plt.show()"
   ]
  },
  {
   "cell_type": "code",
   "execution_count": null,
   "metadata": {},
   "outputs": [],
   "source": [
    "import matplotlib.pyplot as plt\n",
    "\n",
    "# Pie chart, where the slices will be ordered and plotted counter-clockwise:\n",
    "labels = 'Frogs', 'Hogs', 'Dogs', 'Logs'\n",
    "sizes = [15, 30, 45, 10]\n",
    "explode = (.01, 0.1, .04, 0.05)  # only \"explode\" the 2nd slice (i.e. 'Hogs')\n",
    "\n",
    "fig1, ax1 = plt.subplots()\n",
    "ax1.pie(sizes, explode=explode, labels=labels, autopct='%1.1f%%',\n",
    "        shadow=True, startangle=90)\n",
    "ax1.axis('equal')  # Equal aspect ratio ensures that pie is drawn as a circle.\n",
    "\n",
    "plt.show()"
   ]
  },
  {
   "cell_type": "code",
   "execution_count": null,
   "metadata": {},
   "outputs": [],
   "source": [
    "import matplotlib.pyplot as plt\n",
    "import numpy as np\n",
    "\n",
    "np.random.seed(19680801)\n",
    "data = np.random.randn(2, 100)\n",
    "\n",
    "fig, axs = plt.subplots(2, 2, figsize=(5, 5))\n",
    "axs[0, 0].hist(data[0])\n",
    "axs[1, 0].scatter(data[0], data[1])\n",
    "axs[0, 1].plot(data[0], data[1])\n",
    "axs[1, 1].hist2d(data[0], data[1])\n",
    "\n",
    "plt.show()"
   ]
  },
  {
   "cell_type": "code",
   "execution_count": null,
   "metadata": {},
   "outputs": [],
   "source": [
    "import matplotlib.pyplot as plt\n",
    "import numpy as np\n",
    "\n",
    "np.random.seed(19680801)\n",
    "data = np.random.randn(2, 100)\n",
    "\n",
    "fig, axs = plt.subplots(3, 3, figsize=(8, 8))\n",
    "axs[0, 0].hist(data[0])\n",
    "axs[1, 0].scatter(data[0], data[1])\n",
    "axs[0, 1].plot(data[0], data[1])\n",
    "axs[1, 1].hist2d(data[0], data[1])\n",
    "axs[2, 0].hist2d(data[0], data[0])\n",
    "axs[2, 1].hist(data[1])\n",
    "axs[0, 2].scatter(data[1], data[0])\n",
    "axs[1, 2].scatter(data[1], data[1])\n",
    "axs[2, 2].plot(data[1], data[0])\n",
    "plt.show()"
   ]
  },
  {
   "cell_type": "code",
   "execution_count": null,
   "metadata": {},
   "outputs": [],
   "source": []
  }
 ],
 "metadata": {
  "kernelspec": {
   "display_name": "Python 3",
   "language": "python",
   "name": "python3"
  },
  "language_info": {
   "codemirror_mode": {
    "name": "ipython",
    "version": 3
   },
   "file_extension": ".py",
   "mimetype": "text/x-python",
   "name": "python",
   "nbconvert_exporter": "python",
   "pygments_lexer": "ipython3",
   "version": "3.6.5"
  }
 },
 "nbformat": 4,
 "nbformat_minor": 2
}
