{
 "cells": [
  {
   "cell_type": "markdown",
   "metadata": {},
   "source": [
    "### <font color='black'><div style=\"text-align: center\">2018</div></font>\n",
    "---\n",
    "![image](materials/python_logo.png)\n",
    "# <div style=\"text-align:center;font-size:1.8em;color:red;font-family:verdana\">CURSO BÁSICO DE PYTHON</div>\n",
    "## <div style=\"text-align:center;font-size:1.2em;color:red;font-family:verdana\">DÍA 1</div>\n",
    "\n",
    "<div font color='gray'><div style=\"text-align: center\">AXTEL</div>\n"
   ]
  },
  {
   "cell_type": "markdown",
   "metadata": {},
   "source": [
    "\n",
    "# <div style=\"text-align:center;font-size:1.1em;color:red;font-family:verdana\">4. CICLOS </div>\n"
   ]
  },
  {
   "cell_type": "markdown",
   "metadata": {},
   "source": [
    "## <div style=\"text-align:left;font-size:1.1em;color:#666666;font-family:verdana\">4.1 FOR LOOP</div>\n"
   ]
  },
  {
   "cell_type": "markdown",
   "metadata": {},
   "source": [
    "# for Loop"
   ]
  },
  {
   "cell_type": "markdown",
   "metadata": {},
   "source": [
    "<div style=\"text-align:justify;font-size:1.1em;color:#2F2B29;font-family:verdana\"> Es probable que necesitemos ejecutar un mismo código en repetidas ocasiones. Escribir dicho código una y otra vez  es posible pero, ¿qué sucedería si debemos repetirlo 1000 veces? ¿O un millón de veces? En estos casos podemos utilizar ciclos mediante la declaración o comando \"for\".  </div>"
   ]
  },
  {
   "cell_type": "markdown",
   "metadata": {},
   "source": [
    "<div style=\"text-align:justify;font-size:1.1em;color:#2F2B29;font-family:verdana\"> Por ejemplo, imaginemos que deseamos crear código que imprima 5 veces la frase \"Hello World\". Una posible solución para esta tarea puede describirse con el siguiente diagrama:</div>"
   ]
  },
  {
   "cell_type": "markdown",
   "metadata": {},
   "source": [
    "![image](materials/cic0.png)"
   ]
  },
  {
   "cell_type": "markdown",
   "metadata": {},
   "source": [
    "<div style=\"text-align:justify;font-size:1.1em;color:#2F2B29;font-family:verdana\"> El diagrama anterior supone que utilizamos una variable \"i\", la cual debemos inicializar con un cierto valor (\"0\" en este caso) y la cual incrementamos cada ciclo. Con \"for loop\" haremos un proceso un poco distinto. </div>"
   ]
  },
  {
   "cell_type": "markdown",
   "metadata": {},
   "source": [
    "<div style=\"text-align:justify;font-size:1.1em;color:#2F2B29;font-family:verdana\"> Los ciclos \"for\" en Python se implementan iterando sobre una secuencia de valores, como un string o una lista. ¿Qué quiere decir esto? Sencillamente, que el ciclo se repetirá un número de veces igual a la cantidad de elementos en la secuencia que se use. </div>"
   ]
  },
  {
   "cell_type": "markdown",
   "metadata": {},
   "source": [
    "<div style=\"text-align:justify;font-size:1.1em;color:#2F2B29;font-family:verdana\"> Como ejemplo, podemos crear un \"for loop\" con la siguiente lista: </div>"
   ]
  },
  {
   "cell_type": "code",
   "execution_count": null,
   "metadata": {},
   "outputs": [],
   "source": [
    "list1 = [1,2,3,4,5]"
   ]
  },
  {
   "cell_type": "markdown",
   "metadata": {},
   "source": [
    "<div style=\"text-align:justify;font-size:1.1em;color:#2F2B29;font-family:verdana\"> Esta lista contiene 5 elementos, por lo que podemos utilizarla para ejecutar un código 5 veces. Podemos implementar el diagrama ejemplo del inicio utilizando esta lista:  </div>"
   ]
  },
  {
   "cell_type": "code",
   "execution_count": null,
   "metadata": {},
   "outputs": [],
   "source": [
    "for x in [1,2,6,4,8]:\n",
    "    print(\"Hello, World\")"
   ]
  },
  {
   "cell_type": "markdown",
   "metadata": {},
   "source": [
    "<div style=\"text-align:justify;font-size:1.1em;color:#2F2B29;font-family:verdana\"> El formato ded comando \"for loop\" requiere que declaremos una variable nueva al momento de ejcutarla, la cual adquirirá el valor de cada uno de los elementos de la lista, uno a la vez. En el ejemplo anterior, esta variable es \"x\". </div>"
   ]
  },
  {
   "cell_type": "markdown",
   "metadata": {},
   "source": [
    "<div style=\"text-align:justify;font-size:1.1em;color:#2F2B29;font-family:verdana\"> Para entender mejor qué sucede con esta variable (\"x\" en el ejemplo), podemos imprimir su valor en cada ciclo: </div>"
   ]
  },
  {
   "cell_type": "code",
   "execution_count": null,
   "metadata": {},
   "outputs": [],
   "source": [
    "for x in [34,2,8,4,True]:\n",
    "    print(x)"
   ]
  },
  {
   "cell_type": "markdown",
   "metadata": {},
   "source": [
    "<div style=\"text-align:justify;font-size:1.1em;color:#2F2B29;font-family:verdana\"> Podemos utilizar una lista distinta pero con la misma cantidad de elementos para entender mejor este concepto: </div>"
   ]
  },
  {
   "cell_type": "code",
   "execution_count": null,
   "metadata": {},
   "outputs": [],
   "source": [
    "for m in [\"lunes\",\"martes\",\"miércoles\",\"jueves\",\"viernes\"]:\n",
    "    print(\"El día de hoy es\",m)\n",
    "    \n"
   ]
  },
  {
   "cell_type": "markdown",
   "metadata": {},
   "source": [
    "<div style=\"text-align:justify;font-size:1.1em;color:#2F2B29;font-family:verdana\"> El formato del \"for loop\" requiere que escribamos la palabra \"for\" seguido de una variable nueva, la palabra \"in\" y posteriormente la lista sobre la cual iteraremos. Es necesario también agregar dos puntos (:) y saltar de renglón. Después de esto agregamos el código que se repetirá, con una indentación de 4 espacios.</div>"
   ]
  },
  {
   "cell_type": "markdown",
   "metadata": {},
   "source": [
    "![imagen](materials/pencil2.png)"
   ]
  },
  {
   "cell_type": "markdown",
   "metadata": {},
   "source": [
    "#### <div style=\"text-align:CENTER;font-size:1.3em;color:red;font-family:verdana\"> EJERCICIO 4.1-1 [2 minutos]</div>\n",
    "<div style=\"text-align:justify;font-size:1.2em;color:red;font-family:verdana\"> Crea una lista con los nombres de los días de la semana. Utiliza la función \"for\" para crear código que imprima cada uno de los elementos de dicha lista. </div>"
   ]
  },
  {
   "cell_type": "code",
   "execution_count": null,
   "metadata": {},
   "outputs": [],
   "source": [
    "# Escribe tu código aquí\n",
    "\n",
    "semana = [\"lunes\",\"martes\",\"miércoles\",\"jueves\",\"viernes\",\"sábado\",\"domingo\"]\n",
    "\n"
   ]
  },
  {
   "cell_type": "markdown",
   "metadata": {},
   "source": [
    "\n"
   ]
  },
  {
   "cell_type": "markdown",
   "metadata": {},
   "source": [
    "\n"
   ]
  },
  {
   "cell_type": "markdown",
   "metadata": {},
   "source": [
    "\n"
   ]
  },
  {
   "cell_type": "markdown",
   "metadata": {},
   "source": [
    "# Ciclo \"for\" utilizando \"range\""
   ]
  },
  {
   "cell_type": "markdown",
   "metadata": {},
   "source": [
    "<div style=\"text-align:justify;font-size:1.1em;color:#2F2B29;font-family:verdana\"> La función \"range\" sirve para generar un conjunto de  números ascendentes iniciando en 0. La cantidad de números generados será igual al número dentro del paréntesis. Por ejemplo, si queremos generar un conjunto de 5 números iniciando en \"0\", escribiremos lo siguiente: </div>"
   ]
  },
  {
   "cell_type": "code",
   "execution_count": null,
   "metadata": {},
   "outputs": [],
   "source": [
    "range(5)"
   ]
  },
  {
   "cell_type": "markdown",
   "metadata": {},
   "source": [
    "<div style=\"text-align:justify;font-size:1.1em;color:#2F2B29;font-family:verdana\"> Si ejecutamos la celda anterior, obtendremos lo siguiente \"range(0, 5)\". Esto nos indica que el rango inicia en \"0\" y consta de 5 elementos. </div>"
   ]
  },
  {
   "cell_type": "markdown",
   "metadata": {},
   "source": [
    "<div style=\"text-align:justify;font-size:1.1em;color:#2F2B29;font-family:verdana\"> Podemos usar un ciclo \"for\" para imprimir los valores generados en \"range\": </div>"
   ]
  },
  {
   "cell_type": "code",
   "execution_count": null,
   "metadata": {},
   "outputs": [],
   "source": [
    "for x in range(5):\n",
    "    print(x+1)"
   ]
  },
  {
   "cell_type": "code",
   "execution_count": null,
   "metadata": {},
   "outputs": [],
   "source": [
    "for x in range(1,6):\n",
    "    print(x)"
   ]
  },
  {
   "cell_type": "markdown",
   "metadata": {},
   "source": [
    "<div style=\"text-align:justify;font-size:1.1em;color:#2F2B29;font-family:verdana\"> En el ejemplo anterior, la variable \"x\" toma el valor de cada uno de los elementos de \"range(5)\", uno a la vez, alternando en cada ejecución. </div>"
   ]
  },
  {
   "cell_type": "markdown",
   "metadata": {},
   "source": [
    "![imagen](materials/pencil2.png)"
   ]
  },
  {
   "cell_type": "markdown",
   "metadata": {},
   "source": [
    "#### <div style=\"text-align:CENTER;font-size:1.3em;color:red;font-family:verdana\"> EJERCICIO 4.1-2 [2 minutos]</div>\n",
    "<div style=\"text-align:justify;font-size:1.2em;color:red;font-family:verdana\"> Crea un ciclo usando \"for\" y \"range\" que imprima números del 1 al 50. (Recuerda que range genera valores iniciando con \"0\")</div>"
   ]
  },
  {
   "cell_type": "code",
   "execution_count": null,
   "metadata": {},
   "outputs": [],
   "source": [
    "# Escribe tu código aquí\n",
    "\n",
    "\n"
   ]
  },
  {
   "cell_type": "markdown",
   "metadata": {},
   "source": [
    "\n"
   ]
  },
  {
   "cell_type": "markdown",
   "metadata": {},
   "source": [
    "\n"
   ]
  },
  {
   "cell_type": "markdown",
   "metadata": {},
   "source": [
    "\n"
   ]
  },
  {
   "cell_type": "markdown",
   "metadata": {},
   "source": [
    "# Comando \"break\""
   ]
  },
  {
   "cell_type": "markdown",
   "metadata": {},
   "source": [
    "<div style=\"text-align:justify;font-size:1.1em;color:#2F2B29;font-family:verdana\"> La declarción o comando \"break\" detiene la ejecución del código dentro de un \"for loop\" y termina con todo el proceso. Por ejemplo:</div>"
   ]
  },
  {
   "cell_type": "code",
   "execution_count": null,
   "metadata": {},
   "outputs": [],
   "source": [
    "for x in range(20):\n",
    "    print(x)\n",
    "#     if x == 12:\n",
    "#         break\n",
    "    "
   ]
  },
  {
   "cell_type": "markdown",
   "metadata": {},
   "source": [
    "<div style=\"text-align:justify;font-size:1.1em;color:#2F2B29;font-family:verdana\"> El código anterior busca imprimir valores del 0 al 19, pero utilizamos el comando \"break\" en conjunto con un \"if\" para detener la ejecución si el valor es igual a \"12\".</div>"
   ]
  },
  {
   "cell_type": "markdown",
   "metadata": {},
   "source": [
    "![imagen](materials/pencil2.png)"
   ]
  },
  {
   "cell_type": "markdown",
   "metadata": {},
   "source": [
    "#### <div style=\"text-align:CENTER;font-size:1.3em;color:red;font-family:verdana\"> EJERCICIO 4.1-3 [4 minutos]</div>\n",
    "<div style=\"text-align:justify;font-size:1.2em;color:red;font-family:verdana\"> Crea un ciclo usando \"for\" que imprima los valores de la lista proporcionada. Si el valor es \"False\", termina el ciclo utilizando \"break\".</div>"
   ]
  },
  {
   "cell_type": "code",
   "execution_count": null,
   "metadata": {},
   "outputs": [],
   "source": [
    "# Escribe tu código aquí\n",
    "\n",
    "list1 = [True, True, True, True, True, True, True, False, True, True, False, True, True, True, True]\n",
    "\n"
   ]
  },
  {
   "cell_type": "markdown",
   "metadata": {},
   "source": [
    "\n"
   ]
  },
  {
   "cell_type": "markdown",
   "metadata": {},
   "source": [
    "\n"
   ]
  },
  {
   "cell_type": "markdown",
   "metadata": {},
   "source": [
    "\n"
   ]
  },
  {
   "cell_type": "markdown",
   "metadata": {},
   "source": [
    "# Comando \"continue\""
   ]
  },
  {
   "cell_type": "markdown",
   "metadata": {},
   "source": [
    "<div style=\"text-align:justify;font-size:1.1em;color:#2F2B29;font-family:verdana\"> En ocasiones deseamos parar únicamente la ejecución de una sola iteración dentro del ciclo y no todo el proceso. Para esto empleamos la función \"continue\".</div>"
   ]
  },
  {
   "cell_type": "markdown",
   "metadata": {},
   "source": [
    "<div style=\"text-align:justify;font-size:1.1em;color:#2F2B29;font-family:verdana\"> Retomando uno de los ejemplos anteriores:</div>"
   ]
  },
  {
   "cell_type": "code",
   "execution_count": null,
   "metadata": {},
   "outputs": [],
   "source": [
    "for x in range(20):\n",
    "    if x == 12:\n",
    "        continue\n",
    "    print(x)"
   ]
  },
  {
   "cell_type": "markdown",
   "metadata": {},
   "source": [
    "<div style=\"text-align:justify;font-size:1.1em;color:#2F2B29;font-family:verdana\"> Como vemos, cuando el valor de \"x\" es igual a 12, se detiene la ejecución de la iteración en curso, pero el ciclo continua.</div>"
   ]
  },
  {
   "cell_type": "markdown",
   "metadata": {},
   "source": [
    "![imagen](materials/pencil2.png)"
   ]
  },
  {
   "cell_type": "markdown",
   "metadata": {},
   "source": [
    "#### <div style=\"text-align:CENTER;font-size:1.3em;color:red;font-family:verdana\"> EJERCICIO 4.1-4 [1 minuto]</div>\n",
    "<div style=\"text-align:justify;font-size:1.2em;color:red;font-family:verdana\"> Crea un ciclo usando \"for\" que imprima los valores de la lista proporcionada. Si el valor es \"False\", evita que se imprima el valor y termina la ejecución de la iteración en curso usando \"continue\".</div>"
   ]
  },
  {
   "cell_type": "code",
   "execution_count": null,
   "metadata": {},
   "outputs": [],
   "source": [
    "# Escribe tu código aquí\n",
    "\n",
    "list1 = [True, True, False, True, True, True, True, False, True, True, False, True, True, False, True]\n",
    "\n"
   ]
  },
  {
   "cell_type": "markdown",
   "metadata": {},
   "source": [
    "\n"
   ]
  },
  {
   "cell_type": "markdown",
   "metadata": {},
   "source": [
    "\n"
   ]
  },
  {
   "cell_type": "markdown",
   "metadata": {},
   "source": [
    "\n"
   ]
  },
  {
   "cell_type": "markdown",
   "metadata": {},
   "source": [
    "# Ciclos anidados"
   ]
  },
  {
   "cell_type": "markdown",
   "metadata": {},
   "source": [
    "<div style=\"text-align:justify;font-size:1.1em;color:#2F2B29;font-family:verdana\"> Es perfectamente posible anidar un ciclo \"for\" dentro de otro. Veamos el siguiente ejemplo:</div>"
   ]
  },
  {
   "cell_type": "markdown",
   "metadata": {},
   "source": [
    "<div style=\"text-align:justify;font-size:1.1em;color:#2F2B29;font-family:verdana\"> Digamos que deseamos imprimir los valores por segundo de un lapso de tiempo de 3 minutos. El resultado sería similar a esto:</div>\n",
    "\n",
    "- 0:01\n",
    "- 0:02\n",
    "- 0:03\n",
    "- ...\n",
    "- 2:58\n",
    "- 2:59\n",
    "- 3:00\n"
   ]
  },
  {
   "cell_type": "markdown",
   "metadata": {},
   "source": [
    "<div style=\"text-align:justify;font-size:1.1em;color:#2F2B29;font-family:verdana\"> Utilizando \"for loops\" anidados podemos realizar esto de manera relativamente sencilla:</div>"
   ]
  },
  {
   "cell_type": "code",
   "execution_count": null,
   "metadata": {},
   "outputs": [],
   "source": [
    "minutos = [0,1,2]\n",
    "segundos = range(60)\n",
    "\n",
    "for x in minutos:\n",
    "    for y in segundos:\n",
    "        print(x,\":\",y)\n",
    "print(\"3 : 00\")"
   ]
  },
  {
   "cell_type": "markdown",
   "metadata": {},
   "source": [
    "<div style=\"text-align:justify;font-size:1.1em;color:#2F2B29;font-family:verdana\"> Al utilizar ciclos anidados, debemos tener cuidado con la indentación. Los espacios de indentación se van acumulando conforme se anida el código. Por ejemplo, en el código anterior, la función de \"print\" tiene 8 espacios de indentación, ya que está dentro de un \"for\" anidado dentro de otro \"for\".</div>"
   ]
  },
  {
   "cell_type": "markdown",
   "metadata": {},
   "source": [
    "![imagen](materials/pencil2.png)"
   ]
  },
  {
   "cell_type": "markdown",
   "metadata": {},
   "source": [
    "#### <div style=\"text-align:CENTER;font-size:1.3em;color:red;font-family:verdana\"> EJERCICIO 4.1-5 [2 minutos]</div>\n",
    "<div style=\"text-align:justify;font-size:1.2em;color:red;font-family:verdana\"> Utilizando las listas proporcionadas a continuación y ciclos anidados, crea código que imprima los meses desde el año 1990 hasta 1993. El resultado debe ser similar a lo siguiente:</div>"
   ]
  },
  {
   "cell_type": "markdown",
   "metadata": {},
   "source": [
    "- Enero de 1990\n",
    "- Febrero de 1990\n",
    "- Marzo de 1990\n",
    "- ...\n",
    "- Octubre de 1993\n",
    "- Noviembre de 1993\n",
    "- Diciembre de 1993"
   ]
  },
  {
   "cell_type": "code",
   "execution_count": null,
   "metadata": {},
   "outputs": [],
   "source": [
    "# Escribe tu código aquí\n",
    "\n",
    "meses = [\"Enero\", \"Febrero\", \"Marzo\", \"Abril\", \"Mayo\", \"Junio\", \"Julio\", \"Agosto\", \"Septiembre\", \"Octubre\",\n",
    "         \"Noviembre\", \"Diciembre\",]\n",
    "\n",
    "años = [\"1990\", \"1991\", \"1992\", \"1993\"]\n"
   ]
  },
  {
   "cell_type": "markdown",
   "metadata": {},
   "source": [
    "\n"
   ]
  },
  {
   "cell_type": "markdown",
   "metadata": {},
   "source": [
    "\n"
   ]
  },
  {
   "cell_type": "markdown",
   "metadata": {},
   "source": [
    "\n"
   ]
  },
  {
   "cell_type": "markdown",
   "metadata": {},
   "source": [
    "## <div style=\"text-align:left;font-size:1.1em;color:#666666;font-family:verdana\">4.2 WHILE</div>\n"
   ]
  },
  {
   "cell_type": "markdown",
   "metadata": {},
   "source": [
    "<div style=\"text-align:justify;font-size:1.1em;color:#2F2B29;font-family:verdana\"> Si deseamos que un fragmento de código se repita mientras una condición sea cierta, empleamos la declaración o comando \"while\".</div>"
   ]
  },
  {
   "cell_type": "markdown",
   "metadata": {},
   "source": [
    "<div style=\"text-align:justify;font-size:1.1em;color:#2F2B29;font-family:verdana\"> El comando \"while\" puede usarse para correr código un número indefinido hasta que ocurra algún suceso o interrupción que detenga la ejecución. Se debe tener cuidado con este comando, pues existe la posibilidad de crear un ciclo infinito con facilidad. </div>"
   ]
  },
  {
   "cell_type": "markdown",
   "metadata": {},
   "source": [
    "<div style=\"text-align:justify;font-size:1.1em;color:#2F2B29;font-family:verdana\"> Utilicemos el ejemplo del inicio del módulo. Si deseamos imprimir la frase \"Hello, World\" 5 veces, podemos utilizar el siguiente código: </div>"
   ]
  },
  {
   "cell_type": "code",
   "execution_count": null,
   "metadata": {},
   "outputs": [],
   "source": [
    "a = 0\n",
    "\n",
    "while (a < 5):\n",
    "    print(\"Hello, World\")\n",
    "    a = a + 1"
   ]
  },
  {
   "cell_type": "markdown",
   "metadata": {},
   "source": [
    "<div style=\"text-align:justify;font-size:1.1em;color:#2F2B29;font-family:verdana\"> Nótese que en este caso es importante inicializar una variable y modificarla durante las iteraciones, pues, de no hacerlo, el ciclo sería infinito. </div>"
   ]
  },
  {
   "cell_type": "markdown",
   "metadata": {},
   "source": [
    "![imagen](materials/pencil2.png)"
   ]
  },
  {
   "cell_type": "markdown",
   "metadata": {},
   "source": [
    "#### <div style=\"text-align:CENTER;font-size:1.3em;color:red;font-family:verdana\"> EJERCICIO 4.1-6 [2 minutos]</div>\n",
    "<div style=\"text-align:justify;font-size:1.2em;color:red;font-family:verdana\"> Crea un ciclo while que imprima los números del 1 al 20.</div>"
   ]
  },
  {
   "cell_type": "code",
   "execution_count": null,
   "metadata": {},
   "outputs": [],
   "source": [
    "# Escribe tu código aquí\n",
    "i = 1\n"
   ]
  },
  {
   "cell_type": "markdown",
   "metadata": {},
   "source": [
    "\n"
   ]
  },
  {
   "cell_type": "markdown",
   "metadata": {},
   "source": [
    "\n"
   ]
  },
  {
   "cell_type": "markdown",
   "metadata": {},
   "source": [
    "\n"
   ]
  },
  {
   "cell_type": "markdown",
   "metadata": {},
   "source": [
    "# While y break"
   ]
  },
  {
   "cell_type": "markdown",
   "metadata": {},
   "source": [
    "<div style=\"text-align:justify;font-size:1.1em;color:#2F2B29;font-family:verdana\"> Podemos utilizar el comando \"break\" de la misma manera que la usamos con \"for\". </div>"
   ]
  },
  {
   "cell_type": "markdown",
   "metadata": {},
   "source": [
    "<div style=\"text-align:justify;font-size:1.1em;color:#2F2B29;font-family:verdana\"> En este ejemplo haremos algo un poco distinto. La declaración \"while\" espera un valor lógico (booleano) para saber si continua o no con el ciclo. ¿Qué sucede si le proporcionamos un valor booleano \"True\"?</div>"
   ]
  },
  {
   "cell_type": "code",
   "execution_count": null,
   "metadata": {},
   "outputs": [],
   "source": [
    "a = 0\n",
    "\n",
    "while (True):\n",
    "    if a==10:\n",
    "        break\n",
    "    print(\"Hello, World\")\n",
    "    print(a)\n",
    "    a = a + 1"
   ]
  },
  {
   "cell_type": "markdown",
   "metadata": {},
   "source": [
    "<div style=\"text-align:justify;font-size:1.1em;color:#2F2B29;font-family:verdana\"> Si proporcionamos un valor \"True\" a la declaración \"while\", tendremos un loop que continuará hasta que interrumpamos el proceso. El comando por excelencia para hacer esto es \"Break\". </div>"
   ]
  },
  {
   "cell_type": "markdown",
   "metadata": {},
   "source": [
    "# Función Input"
   ]
  },
  {
   "cell_type": "markdown",
   "metadata": {},
   "source": [
    "<div style=\"text-align:justify;font-size:1.1em;color:#2F2B29;font-family:verdana\"> Una función muy útil que no hemos visto hasta el momento es \"input\". Esta sirve para recibir una entrada escrita del usuario y utilizarla en el código. Pruébala en la siguiente celda: </div>"
   ]
  },
  {
   "cell_type": "code",
   "execution_count": null,
   "metadata": {},
   "outputs": [],
   "source": [
    "print(\"¿Cuál es tu nombre?\")\n",
    "a = input()\n",
    "print(\"Hola,\",a,\"!!\")"
   ]
  },
  {
   "cell_type": "markdown",
   "metadata": {},
   "source": [
    "<div style=\"text-align:justify;font-size:1.1em;color:#2F2B29;font-family:verdana\"> Podemos combinar la función input con un ciclo while que espere hasta recibir la señal de break: </div>"
   ]
  },
  {
   "cell_type": "code",
   "execution_count": null,
   "metadata": {},
   "outputs": [],
   "source": [
    "while (True):\n",
    "    print(\"Hola!\")\n",
    "    a = input()\n",
    "    \n",
    "    if a==\"hola\":\n",
    "        print(\"Encantado de conocerte.\")\n",
    "    elif a==\"adios\":\n",
    "        print(\"Adios!\")\n",
    "        break\n",
    "    else:\n",
    "        pass # Este comando solamente indica que no se realizará ninguna acción.\n"
   ]
  },
  {
   "cell_type": "markdown",
   "metadata": {},
   "source": [
    "<div style=\"text-align:justify;font-size:1.1em;color:#2F2B29;font-family:verdana\"> En combinación, estas funciones pueden servirnos para crear servicios parecidos a un chatbot. El código esperará una respuesta del usuario y terminará la ejecución únicamente si se escribe la palabra \"adios\". </div>"
   ]
  },
  {
   "cell_type": "markdown",
   "metadata": {},
   "source": [
    "![imagen](materials/pencil2.png)"
   ]
  },
  {
   "cell_type": "markdown",
   "metadata": {},
   "source": [
    "#### <div style=\"text-align:CENTER;font-size:1.3em;color:red;font-family:verdana\"> EJERCICIO 4.1-7 [10 minutos]</div>\n",
    "<div style=\"text-align:justify;font-size:1.2em;color:red;font-family:verdana\"> Utiliza el código anterior y agrega más \"elif\" para aumentar la funcionalidad. Adiciona también una respuesta para las preguntas \"cómo estas?\" y \"qué día es hoy?\" además de crear una respuesta general (else). Agrega otras 3 preguntas y respuestas de tu elección. </div>"
   ]
  },
  {
   "cell_type": "code",
   "execution_count": null,
   "metadata": {},
   "outputs": [],
   "source": [
    "# Modifica este código\n",
    "\n",
    "    "
   ]
  }
 ],
 "metadata": {
  "kernelspec": {
   "display_name": "Python 3",
   "language": "python",
   "name": "python3"
  },
  "language_info": {
   "codemirror_mode": {
    "name": "ipython",
    "version": 3
   },
   "file_extension": ".py",
   "mimetype": "text/x-python",
   "name": "python",
   "nbconvert_exporter": "python",
   "pygments_lexer": "ipython3",
   "version": "3.6.5"
  }
 },
 "nbformat": 4,
 "nbformat_minor": 2
}
